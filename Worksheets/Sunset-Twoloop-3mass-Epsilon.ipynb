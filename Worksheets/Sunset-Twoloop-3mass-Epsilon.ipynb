{
 "cells": [
  {
   "cell_type": "markdown",
   "id": "c5fe29b4",
   "metadata": {},
   "source": [
    "<center><h1>The minimal order differential equation for the two-loop sunset integral in general dimensions</h1></center>"
   ]
  },
  {
   "cell_type": "markdown",
   "id": "8a363466",
   "metadata": {},
   "source": [
    "\\begin{equation}\n",
    "  \\Omega^{(3)}_\\circleddash(\\vec m, t,\\epsilon)={\\Omega^{(3)}_0\\over\n",
    "    \\textbf{F}_{2}(t)}\\left(\\textbf{U}_{2}^3\\over \\textbf{F}_{2}(t)^{2}\\right)^\\epsilon\n",
    "\\end{equation}\n",
    "with\n",
    "\\begin{equation}\n",
    "  \\textbf{ U}_{2}= x_1\\cdots x_3\\sum_{i=1}^3 {1\\over x_i}, \\qquad\n",
    "      \\textbf{   F}_{2}(t)= \\textbf{U}_{2} \\left(\\sum_{i=1}^3 m_i^2x_i\\right)-t x_1\\cdots x_3\n",
    "\\end{equation}\n",
    "The Feynman integral \n",
    "$$\n",
    "I^\\epsilon_\\circleddash(\\vec m,t,\\epsilon)=\\int_{x_i\\geq0}  \\Omega^{(3)}_\\circleddash(\\vec m, t,\\epsilon)\n",
    "$$\n",
    "satisfies the inhomogeneous equation\n",
    "$$\\mathscr{L}^{(2),\\epsilon}I^\\epsilon_\\circleddash(\\vec m,t,\\epsilon)=\\mathscr{S}_\\circleddash^{(2),\\epsilon}$$\n",
    "where\n",
    "$$\\mathscr{L}^{(2),\\epsilon}_{\\circleddash}= \\mathscr{L}^{(1)}_1\n",
    "     \\mathscr{L}^{(2)}_1    \\mathscr{L}^{3-mass}_{\\circleddash} +\\epsilon\n",
    "     \\mathscr{L}^{(3)}_4+\\epsilon^2  \\mathscr{L}^{(4)}_3+\\epsilon^3\n",
    "     \\mathscr{L}^{(5)}_2+ \\epsilon^4 \\mathscr{L}^{(6)}_1 +\\epsilon^5\n",
    "    \\mathscr{L}^{(7)}_0$$"
   ]
  },
  {
   "cell_type": "code",
   "execution_count": null,
   "id": "91657500-4ddc-4689-b186-315230b74589",
   "metadata": {},
   "outputs": [],
   "source": [
    "varepsilon=var('epsilon')"
   ]
  },
  {
   "cell_type": "code",
   "execution_count": 2,
   "id": "6a8857a9",
   "metadata": {},
   "outputs": [],
   "source": [
    "from ore_algebra import *\n",
    "OA, t, Dt = DifferentialOperators(QQ, 't')\n",
    "OAepsilon, t, Dt = DifferentialOperators(QQ[epsilon], 't')"
   ]
  },
  {
   "cell_type": "code",
   "execution_count": 1,
   "id": "8c72e781",
   "metadata": {},
   "outputs": [
    {
     "name": "stdout",
     "output_type": "stream",
     "text": [
      "loading epsilon order 0\n",
      "loading epsilon order 1\n",
      "loading epsilon order 2\n",
      "loading epsilon order 3\n",
      "loading epsilon order 4\n",
      "loading epsilon order 5\n"
     ]
    }
   ],
   "source": [
    "# PF2Sunset3Mass[n] is the term of order epsilon^n\n",
    "PF2Sunset3Mass=dict()\n",
    "with open(\"PF2Sunset3MassEpsilonCoefficients.txt\") as f:\n",
    "    for e in f.read().replace(\"\\n\", \"\").replace(\" PF\",\"PF\").split(\";\"):\n",
    "            if e:\n",
    "                name, expr = e.split(\" := \")\n",
    "                if name[0] == \"P\":\n",
    "                    _,num=name.split(\"PF\")\n",
    "                    print(\"loading epsilon order\", num)\n",
    "                    PF2Sunset3Mass[int(num)] =  SR(expr)\n",
    "                else:\n",
    "                    if name == \"Source\":\n",
    "                        Source=SR(expr)\n",
    "                    else: \n",
    "                        SourceSeries = SR(expr)"
   ]
  },
  {
   "cell_type": "markdown",
   "id": "49b86465",
   "metadata": {},
   "source": [
    "<b>This is the factorisation of the $\\epsilon^0$ term: $\\mathscr{L}^{(2),\\epsilon}_{\\circleddash}|_{\\epsilon^0}= \\mathscr{L}^{(1)}_1\n",
    "     \\mathscr{L}^{(2)}_1   \\mathscr{L}^{3-mass}_{\\circleddash}$</b><br>\n",
    "     The contribution $ \\mathscr{L}^{3-mass}_{\\circleddash}$ is the second order differential operator in $D=2$"
   ]
  },
  {
   "cell_type": "code",
   "execution_count": 11,
   "id": "72b39df3",
   "metadata": {},
   "outputs": [],
   "source": [
    "PF2Sunset3MassFactorized=dict()\n",
    "with open(\"PF2sunsetEpsilon0-Factorized.txt\") as f:\n",
    "    for e in f.read().replace(\"\\n\", \"\").split(\";\"):\n",
    "            if e:\n",
    "                name, expr = e.split(\" := \")\n",
    "                _,num=name.split(\"FacLe0\")\n",
    "                PF2Sunset3MassFactorized[int(num)] =  SR(expr)"
   ]
  },
  {
   "cell_type": "markdown",
   "id": "a4f80a0d",
   "metadata": {},
   "source": [
    "<b>The source term $\\mathscr{S}_\\circleddash^{(2),\\epsilon}$<b>"
   ]
  },
  {
   "cell_type": "code",
   "execution_count": 12,
   "id": "3810ebca",
   "metadata": {},
   "outputs": [
    {
     "data": {
      "text/plain": [
       "-2*((6*epsilon^2 + 19*epsilon + 14)*m1^8 - (6*epsilon^2 + 13*epsilon + 7)*m2^8 - ((12*epsilon^2 + 44*epsilon + 35)*m2^2 + (12*epsilon^2 + 44*epsilon + 35)*m3^2 - 2*(4*epsilon^2 + 24*epsilon + 17)*t)*m1^6 + (4*(6*epsilon^2 + 13*epsilon + 7)*m3^2 + (4*epsilon^2 - 8*epsilon - 17)*t)*m2^6 + (3*(6*epsilon + 7)*m2^4 + 3*(6*epsilon + 7)*m3^4 - (28*epsilon^2 + 104*epsilon + 81)*m3^2*t + (2*(6*epsilon + 7)*m3^2 - (28*epsilon^2 + 104*epsilon + 81)*t)*m2^2 - 2*(2*epsilon^2 - 15*epsilon - 32)*t^2)*m1^4 - (6*(6*epsilon^2 + 13*epsilon + 7)*m3^4 + (4*epsilon^2 - 8*epsilon - 17)*m3^2*t - (8*epsilon^2 + 46*epsilon + 45)*t^2)*m2^4 - ((6*epsilon^2 + 13*epsilon + 7)*m3^4 + (8*epsilon^2 + 34*epsilon + 31)*m3^2*t + (2*epsilon^2 + 9*epsilon + 10)*t^2)*(m3^2 - t)^2 + ((12*epsilon^2 + 20*epsilon + 7)*m2^6 + (12*epsilon^2 + 20*epsilon + 7)*m3^6 + 16*(epsilon + 2)^2*m3^4*t - ((12*epsilon^2 + 20*epsilon + 7)*m3^2 - 16*(epsilon + 2)^2*t)*m2^4 - (20*epsilon^2 + 92*epsilon + 113)*m3^2*t^2 - 2*(4*epsilon^2 + 12*epsilon + 3)*t^3 - ((12*epsilon^2 + 20*epsilon + 7)*m3^4 + 32*(epsilon + 2)*epsilon*m3^2*t + (20*epsilon^2 + 92*epsilon + 113)*t^2)*m2^2)*m1^2 + (4*(6*epsilon^2 + 13*epsilon + 7)*m3^6 - (4*epsilon^2 - 8*epsilon - 17)*m3^4*t - 2*(8*epsilon^2 + 38*epsilon + 41)*m3^2*t^2 - (4*epsilon^2 + 16*epsilon + 11)*t^3)*m2^2)*(epsilon + 1)*GAMMA(epsilon + 1)^2/((m2*m3)^(2*epsilon)*GAMMA(2*epsilon + 1)) + 2*((6*epsilon + 7)*(epsilon + 1)^2*m1^8 - (6*epsilon^3 + 25*epsilon^2 + 33*epsilon + 14)*m2^8 - ((12*epsilon^2 + 20*epsilon + 7)*m2^2 + 4*(6*epsilon^2 + 13*epsilon + 7)*m3^2 + (4*epsilon^2 - 8*epsilon - 17)*t)*(epsilon + 1)*m1^6 + ((12*epsilon^2 + 44*epsilon + 35)*m3^2 - 2*(4*epsilon^2 + 24*epsilon + 17)*t)*(epsilon + 1)*m2^6 - (3*(6*epsilon + 7)*m2^4 - 6*(6*epsilon^2 + 13*epsilon + 7)*m3^4 - (4*epsilon^2 - 8*epsilon - 17)*m3^2*t - ((12*epsilon^2 + 20*epsilon + 7)*m3^2 - 16*(epsilon + 2)^2*t)*m2^2 + (8*epsilon^2 + 46*epsilon + 45)*t^2)*(epsilon + 1)*m1^4 - (3*(6*epsilon + 7)*m3^4 - (28*epsilon^2 + 104*epsilon + 81)*m3^2*t - 2*(2*epsilon^2 - 15*epsilon - 32)*t^2)*(epsilon + 1)*m2^4 + ((6*epsilon^2 + 13*epsilon + 7)*m3^4 + (8*epsilon^2 + 34*epsilon + 31)*m3^2*t + (2*epsilon^2 + 9*epsilon + 10)*t^2)*(m3^2 - t)^2*(epsilon + 1) + ((12*epsilon^2 + 44*epsilon + 35)*m2^6 - 4*(6*epsilon^2 + 13*epsilon + 7)*m3^6 + (4*epsilon^2 - 8*epsilon - 17)*m3^4*t - (2*(6*epsilon + 7)*m3^2 - (28*epsilon^2 + 104*epsilon + 81)*t)*m2^4 + 2*(8*epsilon^2 + 38*epsilon + 41)*m3^2*t^2 + (4*epsilon^2 + 16*epsilon + 11)*t^3 + ((12*epsilon^2 + 20*epsilon + 7)*m3^4 + 32*(epsilon + 2)*epsilon*m3^2*t + (20*epsilon^2 + 92*epsilon + 113)*t^2)*m2^2)*(epsilon + 1)*m1^2 - ((12*epsilon^2 + 20*epsilon + 7)*m3^6 + 16*(epsilon + 2)^2*m3^4*t - (20*epsilon^2 + 92*epsilon + 113)*m3^2*t^2 - 2*(4*epsilon^2 + 12*epsilon + 3)*t^3)*(epsilon + 1)*m2^2)*GAMMA(epsilon + 1)^2/((m1*m3)^(2*epsilon)*GAMMA(2*epsilon + 1)) - 2*(12*epsilon^3*m3^8 + 56*epsilon^2*m3^8 + 16*epsilon^3*m3^6*t - (12*epsilon^3 + 44*epsilon^2 + 53*epsilon + 21)*m1^8 - (12*epsilon^3 + 44*epsilon^2 + 53*epsilon + 21)*m2^8 + 85*epsilon*m3^8 + 120*epsilon^2*m3^6*t - 8*epsilon^3*m3^4*t^2 + (4*(6*epsilon^2 + 13*epsilon + 7)*m2^2 + (12*epsilon^2 + 20*epsilon + 7)*m3^2 + (4*epsilon^2 - 8*epsilon - 17)*t)*(2*epsilon + 3)*m1^6 + ((12*epsilon^2 + 20*epsilon + 7)*m3^2 + (4*epsilon^2 - 8*epsilon - 17)*t)*(2*epsilon + 3)*m2^6 + 42*m3^8 + 212*epsilon*m3^6*t + 48*epsilon^2*m3^4*t^2 - 16*epsilon^3*m3^2*t^3 + 102*m3^6*t + 218*epsilon*m3^4*t^2 - 72*epsilon^2*m3^2*t^3 - 4*epsilon^3*t^4 - (6*(6*epsilon^2 + 13*epsilon + 7)*m2^4 - 3*(6*epsilon + 7)*m3^4 - 16*(epsilon + 2)^2*m3^2*t + ((12*epsilon^2 + 20*epsilon + 7)*m3^2 + (4*epsilon^2 - 8*epsilon - 17)*t)*m2^2 - (8*epsilon^2 + 46*epsilon + 45)*t^2)*(2*epsilon + 3)*m1^4 + (3*(6*epsilon + 7)*m3^4 + 16*(epsilon + 2)^2*m3^2*t + (8*epsilon^2 + 46*epsilon + 45)*t^2)*(2*epsilon + 3)*m2^4 + 192*m3^4*t^2 - 84*epsilon*m3^2*t^3 - 24*epsilon^2*t^4 - 18*m3^2*t^3 - 47*epsilon*t^4 + (4*(6*epsilon^2 + 13*epsilon + 7)*m2^6 - (12*epsilon^2 + 44*epsilon + 35)*m3^6 - (28*epsilon^2 + 104*epsilon + 81)*m3^4*t - ((12*epsilon^2 + 20*epsilon + 7)*m3^2 + (4*epsilon^2 - 8*epsilon - 17)*t)*m2^4 - (20*epsilon^2 + 92*epsilon + 113)*m3^2*t^2 - (4*epsilon^2 + 16*epsilon + 11)*t^3 + 2*((6*epsilon + 7)*m3^4 - 16*(epsilon + 2)*epsilon*m3^2*t - (8*epsilon^2 + 38*epsilon + 41)*t^2)*m2^2)*(2*epsilon + 3)*m1^2 - ((12*epsilon^2 + 44*epsilon + 35)*m3^6 + (28*epsilon^2 + 104*epsilon + 81)*m3^4*t + (20*epsilon^2 + 92*epsilon + 113)*m3^2*t^2 + (4*epsilon^2 + 16*epsilon + 11)*t^3)*(2*epsilon + 3)*m2^2 - 30*t^4)*(epsilon + 1)*GAMMA(epsilon + 1)^2/((m1*m2)^(2*epsilon)*(2*epsilon + 3)*GAMMA(2*epsilon + 1))"
      ]
     },
     "execution_count": 12,
     "metadata": {},
     "output_type": "execute_result"
    }
   ],
   "source": [
    "Source"
   ]
  },
  {
   "cell_type": "markdown",
   "id": "3153be33-6165-40b4-9e48-32bb5152c245",
   "metadata": {},
   "source": [
    "<b>The small $\\epsilon$ expansion of $\\mathscr{S}_\\circleddash^{(2),\\epsilon}$</b>"
   ]
  },
  {
   "cell_type": "code",
   "execution_count": 13,
   "id": "94586efc",
   "metadata": {},
   "outputs": [
    {
     "data": {
      "text/plain": [
       "-308*(m1 + m2 + m3)*(m1 + m2 - m3)*(m1 - m2 + m3)*(m1 - m2 - m3)*t^2 + 56*(m1^2 + m2^2 + m3^2)*t^3 + 60*t^4 + 2*(7*m1^8 - 28*m1^6*m2^2 + 42*m1^4*m2^4 - 28*m1^2*m2^6 + 7*m2^8 - 28*m1^6*m3^2 + 28*m1^4*m2^2*m3^2 + 28*m1^2*m2^4*m3^2 - 28*m2^6*m3^2 + 42*m1^4*m3^4 + 28*m1^2*m2^2*m3^4 + 42*m2^4*m3^4 - 28*m1^2*m3^6 - 28*m2^2*m3^6 + 7*m3^8 - 32*m1^6*t + 32*m1^4*m2^2*t + 32*m1^2*m2^4*t - 32*m2^6*t + 32*m1^4*m3^2*t + 192*m1^2*m2^2*m3^2*t + 32*m2^4*m3^2*t + 32*m1^2*m3^4*t + 32*m2^2*m3^4*t - 32*m3^6*t - 276*m1^4*t^2 + 568*m1^2*m2^2*t^2 - 276*m2^4*t^2 + 568*m1^2*m3^2*t^2 + 568*m2^2*m3^2*t^2 - 276*m3^4*t^2 + 84*m1^2*t^3 + 84*m2^2*t^3 + 84*m3^2*t^3 + 57*t^4 - 2*(14*m1^8 - 35*m1^6*m2^2 + 21*m1^4*m2^4 + 7*m1^2*m2^6 - 7*m2^8 - 35*m1^6*m3^2 + 14*m1^4*m2^2*m3^2 - 7*m1^2*m2^4*m3^2 + 28*m2^6*m3^2 + 21*m1^4*m3^4 - 7*m1^2*m2^2*m3^4 - 42*m2^4*m3^4 + 7*m1^2*m3^6 + 28*m2^2*m3^6 - 7*m3^8 + 34*m1^6*t - 81*m1^4*m2^2*t + 64*m1^2*m2^4*t - 17*m2^6*t - 81*m1^4*m3^2*t + 17*m2^4*m3^2*t + 64*m1^2*m3^4*t + 17*m2^2*m3^4*t - 17*m3^6*t - 90*m1^4*t^2 + 195*m1^2*m2^2*t^2 - 109*m2^4*t^2 + 195*m1^2*m3^2*t^2 + 226*m2^2*m3^2*t^2 - 109*m3^4*t^2 + 22*m1^2*t^3 + 17*m2^2*t^3 + 17*m3^2*t^3 + 20*t^4)*ln(m1) + 2*(7*m1^8 - 7*m1^6*m2^2 - 21*m1^4*m2^4 + 35*m1^2*m2^6 - 14*m2^8 - 28*m1^6*m3^2 + 7*m1^4*m2^2*m3^2 - 14*m1^2*m2^4*m3^2 + 35*m2^6*m3^2 + 42*m1^4*m3^4 + 7*m1^2*m2^2*m3^4 - 21*m2^4*m3^4 - 28*m1^2*m3^6 - 7*m2^2*m3^6 + 7*m3^8 + 17*m1^6*t - 64*m1^4*m2^2*t + 81*m1^2*m2^4*t - 34*m2^6*t - 17*m1^4*m3^2*t + 81*m2^4*m3^2*t - 17*m1^2*m3^4*t - 64*m2^2*m3^4*t + 17*m3^6*t + 109*m1^4*t^2 - 195*m1^2*m2^2*t^2 + 90*m2^4*t^2 - 226*m1^2*m3^2*t^2 - 195*m2^2*m3^2*t^2 + 109*m3^4*t^2 - 17*m1^2*t^3 - 22*m2^2*t^3 - 17*m3^2*t^3 - 20*t^4)*ln(m2) + 2*(7*m1^8 - 28*m1^6*m2^2 + 42*m1^4*m2^4 - 28*m1^2*m2^6 + 7*m2^8 - 7*m1^6*m3^2 + 7*m1^4*m2^2*m3^2 + 7*m1^2*m2^4*m3^2 - 7*m2^6*m3^2 - 21*m1^4*m3^4 - 14*m1^2*m2^2*m3^4 - 21*m2^4*m3^4 + 35*m1^2*m3^6 + 35*m2^2*m3^6 - 14*m3^8 + 17*m1^6*t - 17*m1^4*m2^2*t - 17*m1^2*m2^4*t + 17*m2^6*t - 64*m1^4*m3^2*t - 64*m2^4*m3^2*t + 81*m1^2*m3^4*t + 81*m2^2*m3^4*t - 34*m3^6*t + 109*m1^4*t^2 - 226*m1^2*m2^2*t^2 + 109*m2^4*t^2 - 195*m1^2*m3^2*t^2 - 195*m2^2*m3^2*t^2 + 90*m3^4*t^2 - 17*m1^2*t^3 - 17*m2^2*t^3 - 22*m3^2*t^3 - 20*t^4)*ln(m3))*epsilon"
      ]
     },
     "execution_count": 13,
     "metadata": {},
     "output_type": "execute_result"
    }
   ],
   "source": [
    "SourceSeries"
   ]
  }
 ],
 "metadata": {
  "kernelspec": {
   "display_name": "SageMath 10.2",
   "language": "sage",
   "name": "sagemath"
  },
  "language_info": {
   "codemirror_mode": {
    "name": "ipython",
    "version": 3
   },
   "file_extension": ".py",
   "mimetype": "text/x-python",
   "name": "python",
   "nbconvert_exporter": "python",
   "pygments_lexer": "ipython3",
   "version": "3.11.1"
  }
 },
 "nbformat": 4,
 "nbformat_minor": 5
}
