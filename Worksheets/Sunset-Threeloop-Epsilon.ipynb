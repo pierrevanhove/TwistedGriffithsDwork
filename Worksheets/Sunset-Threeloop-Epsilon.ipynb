{
 "cells": [
  {
   "cell_type": "markdown",
   "id": "c5fe29b4",
   "metadata": {},
   "source": [
    "## The minimal order differential equation for the three-loop sunset integral in general dimensions"
   ]
  },
  {
   "cell_type": "markdown",
   "id": "8a363466",
   "metadata": {},
   "source": [
    "\\begin{equation}\n",
    "  \\Omega^{\\epsilon}_\\circleddash(\\vec m, t,\\epsilon)={\\Omega^{(4)}_0\\over\n",
    "    \\textbf{F}_{3}(t)}\\left(\\textbf{U}_{3}^4\\over \\textbf{F}_{3}(t)^{3}\\right)^\\epsilon\n",
    "\\end{equation}\n",
    "with\n",
    "\\begin{equation}\n",
    "  \\textbf{ U}_{3}= x_1\\cdots x_4\\sum_{i=1}^4 {1\\over x_i},\\qquad \n",
    "      \\textbf{   F}_{3}(t)= \\textbf{U}_{3}\\left( \\sum_{i=1}^4 m_i^2x_i\\right)-t x_1\\cdots x_4\n",
    "\\end{equation}"
   ]
  },
  {
   "cell_type": "markdown",
   "id": "c4f241c3",
   "metadata": {},
   "source": [
    "<center><h2>The three-loop generic mass case (numerics)</h2></center>"
   ]
  },
  {
   "cell_type": "code",
   "execution_count": 1,
   "id": "759d9aef-5796-4c7b-ab26-1fa513ec17bc",
   "metadata": {},
   "outputs": [],
   "source": [
    "varepsilon=var('epsilon')"
   ]
  },
  {
   "cell_type": "code",
   "execution_count": 2,
   "id": "bf974585-d5e2-4582-b9d0-d608ea9fa5ec",
   "metadata": {},
   "outputs": [],
   "source": [
    "from ore_algebra import *\n",
    "OA, t, Dt = DifferentialOperators(QQ, 't')\n",
    "OAepsilon, t, Dt = DifferentialOperators(QQ[epsilon], 't')"
   ]
  },
  {
   "cell_type": "code",
   "execution_count": 2,
   "id": "9cf1a787",
   "metadata": {},
   "outputs": [
    {
     "name": "stdout",
     "output_type": "stream",
     "text": [
      "loading epsilon order 0\n",
      "loading epsilon order 1\n",
      "loading epsilon order 2\n",
      "loading epsilon order 3\n",
      "loading epsilon order 4\n",
      "loading epsilon order 5\n",
      "loading epsilon order 6\n",
      "loading epsilon order 7\n",
      "loading epsilon order 9\n",
      "loading epsilon order 8\n"
     ]
    }
   ],
   "source": [
    "PF3Sunset2mass22=dict()\n",
    "with open(\"PF3sunset2mass22-epsilon.txt\") as f:\n",
    "    for e in f.read().replace(\"\\n\", \"\").split(\";\"):\n",
    "            if e:\n",
    "                name, expr = e.split(\" := \")\n",
    "                name=name.strip()\n",
    "                _,num=name.split(\"PF3sunset2mass22\")\n",
    "                print(\"loading epsilon order\", num)\n",
    "                PF3Sunset2mass22[int(num)] =  SR(expr)"
   ]
  },
  {
   "cell_type": "code",
   "execution_count": 28,
   "id": "8c143f61",
   "metadata": {},
   "outputs": [
    {
     "data": {
      "text/plain": [
       "[6, 6, 6, 6, 5, 4, 3, 2, 1]"
      ]
     },
     "execution_count": 28,
     "metadata": {},
     "output_type": "execute_result"
    }
   ],
   "source": [
    "[OA(PF3Sunset2mass22[i].substitute(m1=3,m4=11)).order() for i in range(9)]"
   ]
  },
  {
   "cell_type": "code",
   "execution_count": 3,
   "id": "81ec87a5",
   "metadata": {},
   "outputs": [
    {
     "name": "stdout",
     "output_type": "stream",
     "text": [
      "loading epsilon order 0\n",
      "loading epsilon order 1\n",
      "loading epsilon order 2\n",
      "loading epsilon order 3\n",
      "loading epsilon order 4\n",
      "loading epsilon order 5\n",
      "loading epsilon order 6\n"
     ]
    }
   ],
   "source": [
    "PF3Sunset2mass31=dict()\n",
    "with open(\"PF3sunset2mass31-epsilon.txt\") as f:\n",
    "    for e in f.read().replace(\"\\n\", \"\").split(\";\"):\n",
    "            if e:\n",
    "                name, expr = e.split(\" := \")\n",
    "                name=name.strip()\n",
    "                _,num=name.split(\"PF3sunset2mass31\")\n",
    "                print(\"loading epsilon order\", num)\n",
    "                PF3Sunset2mass31[int(num)] =  SR(expr)"
   ]
  },
  {
   "cell_type": "code",
   "execution_count": 40,
   "id": "ae196cd7",
   "metadata": {},
   "outputs": [
    {
     "data": {
      "text/plain": [
       "(-8) * (t - 784) * (t - 484) * (t - 256) * (t - 36) * t^4 * (t^4 - 3055/4*t^3 - 1092082*t^2 - 377207480*t + 14401971456)"
      ]
     },
     "execution_count": 40,
     "metadata": {},
     "output_type": "execute_result"
    }
   ],
   "source": [
    "OA(PF3Sunset2mass22[0].substitute(m1=3,m4=11)).leading_coefficient().factor()"
   ]
  },
  {
   "cell_type": "code",
   "execution_count": 30,
   "id": "a149062a",
   "metadata": {},
   "outputs": [
    {
     "data": {
      "text/plain": [
       "[5, 5, 4, 3, 2, 1, 0]"
      ]
     },
     "execution_count": 30,
     "metadata": {},
     "output_type": "execute_result"
    }
   ],
   "source": [
    "[OA(PF3Sunset2mass31[i].substitute(m1=3,m4=11)).order() for i in range(7)]"
   ]
  },
  {
   "cell_type": "code",
   "execution_count": 31,
   "id": "2dfe4daf",
   "metadata": {},
   "outputs": [
    {
     "data": {
      "text/plain": [
       "(-1) * (t - 400) * (t - 196) * (t - 64) * (t - 4) * t^3 * (t^3 + 452*t^2 - 28864*t + 1836160)"
      ]
     },
     "execution_count": 31,
     "metadata": {},
     "output_type": "execute_result"
    }
   ],
   "source": [
    "OA(PF3Sunset2mass31[0].substitute(m1=3,m4=11)).leading_coefficient().factor()"
   ]
  },
  {
   "cell_type": "markdown",
   "id": "b8c5595f",
   "metadata": {},
   "source": [
    "mass configuration $(m_1,m_2,m_3,m_4)=(7,7,17,17)$"
   ]
  },
  {
   "cell_type": "code",
   "execution_count": 32,
   "id": "18f99c98",
   "metadata": {},
   "outputs": [],
   "source": [
    "PF2mass22 = open(\"PF3sunset2mass22num.txt\").readlines()[0]"
   ]
  },
  {
   "cell_type": "markdown",
   "id": "939de81c",
   "metadata": {},
   "source": [
    "mass configuration $(m_1,m_2,m_3,m_4)=(1,17,17,17)$"
   ]
  },
  {
   "cell_type": "code",
   "execution_count": 33,
   "id": "27e7a0ef",
   "metadata": {},
   "outputs": [],
   "source": [
    "PF2mass31 = open(\"PF3sunset2mass31num.txt\").readlines()[0]"
   ]
  },
  {
   "cell_type": "markdown",
   "id": "21ad37b3",
   "metadata": {},
   "source": [
    "mass configuration $(m_1,m_2,m_3,m_4)=(1,7,17,17)$"
   ]
  },
  {
   "cell_type": "code",
   "execution_count": 41,
   "id": "4a54f89b",
   "metadata": {},
   "outputs": [],
   "source": [
    "PF3mass = open(\"PF3sunset3massnum.txt\").readlines()[0]"
   ]
  },
  {
   "cell_type": "code",
   "execution_count": 42,
   "id": "82e4a6c3",
   "metadata": {},
   "outputs": [
    {
     "data": {
      "text/plain": [
       "[6, 6, 6, 6, 5, 4, 3, 2, 1, 0]"
      ]
     },
     "execution_count": 42,
     "metadata": {},
     "output_type": "execute_result"
    }
   ],
   "source": [
    "[OA(SR(PF2mass22).coefficient(epsilon,r)).order() for r in range(SR(PF2mass22).degree(epsilon)+1)]"
   ]
  },
  {
   "cell_type": "code",
   "execution_count": 46,
   "id": "4e47787c",
   "metadata": {
    "scrolled": true
   },
   "outputs": [
    {
     "name": "stdout",
     "output_type": "stream",
     "text": [
      "### Trying to factor an operator of order 6\n",
      "Degree bound for right factor = 1945\n",
      "Current order of truncation = 66\n",
      "Current working precision = 350 (before monodromy computation)\n",
      "Current algebraic degree = 1\n",
      "Starting to compute the monodromy matrices\n",
      "loss = 56\n",
      "1 matrices computed\n",
      "Trying to guess symbolic coefficients\n",
      "Trying to guess symbolic coefficients\n",
      "loss = 63\n",
      "2 matrices computed\n",
      "Trying to guess symbolic coefficients\n",
      "Current order of truncation = 66\n",
      "Current working precision = 637 (before monodromy computation)\n",
      "Current algebraic degree = 1\n",
      "Starting to compute the monodromy matrices\n",
      "1 matrices computed\n",
      "Trying to guess symbolic coefficients\n",
      "Trying to guess symbolic coefficients\n",
      "2 matrices computed\n",
      "Trying to guess symbolic coefficients\n",
      "Trying to guess symbolic coefficients\n",
      "3 matrices computed\n",
      "Trying to guess symbolic coefficients\n",
      "Trying to guess symbolic coefficients\n",
      "4 matrices computed\n",
      "Trying to guess symbolic coefficients\n",
      "Found rational coefficients\n",
      "Concluded with One_Dimensional method\n",
      "### Trying to factor an operator of order 4\n",
      "Degree bound for right factor = 459\n",
      "Current order of truncation = 40\n",
      "Current working precision = 250 (before monodromy computation)\n",
      "Current algebraic degree = 1\n",
      "Starting to compute the monodromy matrices\n",
      "loss = 20\n",
      "1 matrices computed\n",
      "Trying to guess symbolic coefficients\n",
      "Found rational coefficients\n",
      "Trying to guess symbolic coefficients\n",
      "loss = 24\n",
      "2 matrices computed\n",
      "Trying to guess symbolic coefficients\n",
      "Trying to guess symbolic coefficients\n",
      "loss = 27\n",
      "3 matrices computed\n",
      "Trying to guess symbolic coefficients\n",
      "loss = 31\n",
      "4 matrices computed\n",
      "Concluded with One_Dimensional method\n"
     ]
    },
    {
     "data": {
      "text/plain": [
       "[1, 1, 4]"
      ]
     },
     "execution_count": 46,
     "metadata": {},
     "output_type": "execute_result"
    }
   ],
   "source": [
    "PF2mass22epsilon0=OA(SR(PF2mass22).coefficient(epsilon,0))\n",
    "FacPF2mass22epsilon0=PF2mass22epsilon0.factor(verbose=True)\n",
    "[x.order() for x in FacPF2mass22epsilon0]"
   ]
  },
  {
   "cell_type": "code",
   "execution_count": 40,
   "id": "20c20777",
   "metadata": {},
   "outputs": [],
   "source": [
    "q22mass = dict()\n",
    "with open(\"/Users/pierre/Git/PicardFuchs/PF3sunset-2mass22-dert-Coefficients.txt\") as f:\n",
    "    for e in f.read().replace(\"\\n\", \"\").split(\";\"):\n",
    "        if e:\n",
    "            name, expr = e.split(\":=\")\n",
    "            name = name.strip()\n",
    "            expr = SR(expr)\n",
    "            if name[0] == \"q\":\n",
    "                q22mass[int(name[1:])] = expr"
   ]
  },
  {
   "cell_type": "code",
   "execution_count": 42,
   "id": "c57b3d78",
   "metadata": {},
   "outputs": [],
   "source": [
    "q22mass4=q22mass[4].substitute(m1=7,m4=17)\n",
    "q22mass3=q22mass[3].substitute(m1=7,m4=17)\n",
    "q22mass2=q22mass[2].substitute(m1=7,m4=17)\n",
    "q22mass1=q22mass[1].substitute(m1=7,m4=17)\n",
    "q22mass0=q22mass[0].substitute(m1=7,m4=17)\n",
    "den=q22mass4.denominator()\n",
    "qq22mass4=(q22mass4*den).expand()\n",
    "qq22mass3=(q22mass3*den).expand()\n",
    "qq22mass2=(q22mass2*den).expand()\n",
    "qq22mass1=(q22mass1*den).expand()\n",
    "qq22mass0=(q22mass0*den).expand()\n",
    "L22mass=OA0(qq22mass4)*Dt^4+OA0(qq22mass3)*Dt^3+OA0(qq22mass2)*Dt^2+OA0(qq22mass1)*Dt+OA0(qq22mass0)"
   ]
  },
  {
   "cell_type": "code",
   "execution_count": 47,
   "id": "f0b41f35",
   "metadata": {
    "scrolled": true
   },
   "outputs": [
    {
     "data": {
      "text/plain": [
       "0"
      ]
     },
     "execution_count": 47,
     "metadata": {},
     "output_type": "execute_result"
    }
   ],
   "source": [
    "L22mass+3*FacPF2mass22epsilon0[2]"
   ]
  },
  {
   "cell_type": "code",
   "execution_count": 47,
   "id": "078a44d3",
   "metadata": {},
   "outputs": [
    {
     "data": {
      "text/plain": [
       "[5, 5, 4, 3, 2, 1, 0]"
      ]
     },
     "execution_count": 47,
     "metadata": {},
     "output_type": "execute_result"
    }
   ],
   "source": [
    "[OA(SR(PF2mass31).coefficient(epsilon,r)).order() for r in range(SR(PF2mass31).degree(epsilon)+1)]"
   ]
  },
  {
   "cell_type": "code",
   "execution_count": 48,
   "id": "d311c236",
   "metadata": {},
   "outputs": [
    {
     "name": "stdout",
     "output_type": "stream",
     "text": [
      "### Trying to factor an operator of order 5\n",
      "Degree bound for right factor = 920\n",
      "Current order of truncation = 45\n",
      "Current working precision = 300 (before monodromy computation)\n",
      "Current algebraic degree = 1\n",
      "Starting to compute the monodromy matrices\n",
      "loss = 36\n",
      "1 matrices computed\n",
      "Trying to guess symbolic coefficients\n",
      "Trying to guess symbolic coefficients\n",
      "2 matrices computed\n",
      "Trying to guess symbolic coefficients\n",
      "Found rational coefficients\n",
      "Trying to guess symbolic coefficients\n",
      "Found rational coefficients\n",
      "loss = 49\n",
      "3 matrices computed\n",
      "Trying to guess symbolic coefficients\n",
      "Found rational coefficients\n",
      "loss = 50\n",
      "4 matrices computed\n",
      "Trying to guess symbolic coefficients\n",
      "Found rational coefficients\n",
      "5 matrices computed\n",
      "Trying to guess symbolic coefficients\n",
      "Found rational coefficients\n",
      "Current order of truncation = 90\n",
      "Current working precision = 550 (before monodromy computation)\n",
      "Current algebraic degree = 2\n",
      "Starting to compute the monodromy matrices\n",
      "1 matrices computed\n",
      "Trying to guess symbolic coefficients\n",
      "2 matrices computed\n",
      "Trying to guess symbolic coefficients\n",
      "3 matrices computed\n",
      "Trying to guess symbolic coefficients\n",
      "Found rational coefficients\n",
      "4 matrices computed\n",
      "Trying to guess symbolic coefficients\n",
      "Found rational coefficients\n",
      "Concluded with One_Dimensional method\n",
      "### Trying to factor an operator of order 4\n",
      "Degree bound for right factor = 411\n",
      "Current order of truncation = 36\n",
      "Current working precision = 250 (before monodromy computation)\n",
      "Current algebraic degree = 1\n",
      "Starting to compute the monodromy matrices\n",
      "loss = 25\n",
      "1 matrices computed\n",
      "Trying to guess symbolic coefficients\n",
      "Trying to guess symbolic coefficients\n",
      "loss = 27\n",
      "2 matrices computed\n",
      "Trying to guess symbolic coefficients\n",
      "loss = 34\n",
      "3 matrices computed\n",
      "Trying to guess symbolic coefficients\n",
      "Found rational coefficients\n",
      "4 matrices computed\n",
      "Concluded with One_Dimensional method\n"
     ]
    },
    {
     "data": {
      "text/plain": [
       "[1, 4]"
      ]
     },
     "execution_count": 48,
     "metadata": {},
     "output_type": "execute_result"
    }
   ],
   "source": [
    "PF2mass31epsilon0=OA(SR(PF2mass31).coefficient(epsilon,0))\n",
    "FacPF2mass31epsilon0=PF2mass31epsilon0.factor(verbose=True)\n",
    "[x.order() for x in FacPF2mass31epsilon0]"
   ]
  },
  {
   "cell_type": "code",
   "execution_count": 49,
   "id": "3b930d73",
   "metadata": {},
   "outputs": [],
   "source": [
    "q31mass = dict()\n",
    "with open(\"/Users/pierre/Git/PicardFuchs/PF3sunset-2mass31-dert-Coefficients.txt\") as f:\n",
    "    for e in f.read().replace(\"\\n\", \"\").split(\";\"):\n",
    "        if e:\n",
    "            name, expr = e.split(\":=\")\n",
    "            name = name.strip()\n",
    "            expr = SR(expr)\n",
    "            if name[0] == \"q\":\n",
    "                q31mass[int(name[1:])] = expr"
   ]
  },
  {
   "cell_type": "code",
   "execution_count": 50,
   "id": "b1006ec5",
   "metadata": {},
   "outputs": [],
   "source": [
    "q31mass4=q31mass[4].substitute(m1=17,m4=1)\n",
    "q31mass3=q31mass[3].substitute(m1=17,m4=1)\n",
    "q31mass2=q31mass[2].substitute(m1=17,m4=1)\n",
    "q31mass1=q31mass[1].substitute(m1=17,m4=1)\n",
    "q31mass0=q31mass[0].substitute(m1=17,m4=1)\n",
    "den=q31mass4.denominator()\n",
    "qq31mass4=(q31mass4*den).expand()\n",
    "qq31mass3=(q31mass3*den).expand()\n",
    "qq31mass2=(q31mass2*den).expand()\n",
    "qq31mass1=(q31mass1*den).expand()\n",
    "qq31mass0=(q31mass0*den).expand()\n",
    "L31mass=OA(qq31mass4)*Dt^4+OA(qq31mass3)*Dt^3+OA(qq31mass2)*Dt^2+OA(qq31mass1)*Dt+OA(qq31mass0)"
   ]
  },
  {
   "cell_type": "code",
   "execution_count": 51,
   "id": "52025593",
   "metadata": {},
   "outputs": [
    {
     "data": {
      "text/plain": [
       "0"
      ]
     },
     "execution_count": 51,
     "metadata": {},
     "output_type": "execute_result"
    }
   ],
   "source": [
    "L31mass-2*FacPF2mass31epsilon0[1]"
   ]
  },
  {
   "cell_type": "code",
   "execution_count": 52,
   "id": "ab494d3c",
   "metadata": {},
   "outputs": [
    {
     "data": {
      "text/plain": [
       "[8, 8, 8, 8, 8, 8, 8, 8, 7, 6, 5, 4, 3, 2, 1, 0]"
      ]
     },
     "execution_count": 52,
     "metadata": {},
     "output_type": "execute_result"
    }
   ],
   "source": [
    "[OA(SR(PF3mass).coefficient(epsilon,r)).order() for r in range(SR(PF3mass).degree(epsilon)+1)]"
   ]
  },
  {
   "cell_type": "code",
   "execution_count": 53,
   "id": "635a99f4",
   "metadata": {},
   "outputs": [
    {
     "data": {
      "text/plain": [
       "(-1) * (t - 1764) * (t - 1600) * (t - 784) * (t - 676) * (t - 64) * (t - 36) * t^5 * ((1408*epsilon^7 + 704*epsilon^6 - 26552*epsilon^5 - 7644*epsilon^4 + 203678*epsilon^3 + 19567*epsilon^2 - 494122*epsilon + 217995)*t^9 + (26330112*epsilon^7 + 86052864*epsilon^6 - 294441152*epsilon^5 - 1164217728*epsilon^4 + 665492960*epsilon^3 + 5013123472*epsilon^2 + 2928801924*epsilon - 2720453836)*t^8 + (187089371136*epsilon^7 + 1010689566720*epsilon^6 + 379282732032*epsilon^5 - 6084306199680*epsilon^4 - 9754662437088*epsilon^3 + 1507684648080*epsilon^2 + 6204770058648*epsilon - 1908810494796)*t^7 + (606862135394304*epsilon^7 + 3916785201438720*epsilon^6 + 6813947601649664*epsilon^5 - 4205912474146304*epsilon^4 - 22951408582996224*epsilon^3 - 16755630597031168*epsilon^2 + 9556483818486976*epsilon + 16936728347566176)*t^6 + (693877307886010368*epsilon^7 + 2797410605042565120*epsilon^6 - 4792688995549970432*epsilon^5 - 42180550203801022464*epsilon^4 - 80887385748798724096*epsilon^3 - 58992282147024587264*epsilon^2 - 7307060258458607616*epsilon + 1727084127700542080)*t^5 + (-974418834159965306880*epsilon^7 - 17387490597510434783232*epsilon^6 - 105658421461000583380992*epsilon^5 - 317954054701220757159936*epsilon^4 - 533383564923041377026048*epsilon^3 - 506811881053303203723264*epsilon^2 - 254195183364330987134976*epsilon - 50326532420437064547840)*t^4 + (-3702829177378427256176640*epsilon^7 - 44781149492009304110137344*epsilon^6 - 221732733508120711726366720*epsilon^5 - 586721315632140608254115840*epsilon^4 - 898641665618655688309358592*epsilon^3 - 796700005251023191462961152*epsilon^2 - 376908543959020597123469312*epsilon - 72934176920202284730464256)*t^3 + (-3918692373306574927803973632*epsilon^7 - 39895225410234331101206151168*epsilon^6 - 169284692454675136824813289472*epsilon^5 - 389331070761349618813385048064*epsilon^4 - 526147527868196009427330531328*epsilon^3 - 420142094883257894091712495616*epsilon^2 - 185129479354995491404117671936*epsilon - 35106040308242194119013728256)*t^2 + (-1493427002801497738111780651008*epsilon^7 - 12840199118443474632164587339776*epsilon^6 - 46328106594838757518376152596480*epsilon^5 - 90188086561548654849880095719424*epsilon^4 - 101008558557863437180703307988992*epsilon^3 - 63732409894136433482878885036032*epsilon^2 - 20192931471562453566924698419200*epsilon - 2280172379100228695200710918144)*t - 48882984099140393934766357872640*epsilon^7 - 361250658968294465772694808821760*epsilon^6 - 853809946139343225949567267635200*epsilon^5 - 300014665328944263477880967659520*epsilon^4 + 1813245858501187462199890463948800*epsilon^3 + 3048595718159704691932130600550400*epsilon^2 + 1898130838061227444230222679900160*epsilon + 422450504357749471892376398069760)"
      ]
     },
     "execution_count": 53,
     "metadata": {},
     "output_type": "execute_result"
    }
   ],
   "source": [
    "OAepsilon(SR(PF3mass)).leading_coefficient().factor()"
   ]
  },
  {
   "cell_type": "code",
   "execution_count": 39,
   "id": "d755c03c",
   "metadata": {},
   "outputs": [
    {
     "name": "stdout",
     "output_type": "stream",
     "text": [
      "### Trying to factor an operator of order 8\n",
      "Degree bound for right factor = 8981\n",
      "Current order of truncation = 100\n",
      "Current working precision = 450 (before monodromy computation)\n",
      "Current algebraic degree = 1\n",
      "Starting to compute the monodromy matrices\n",
      "loss = 76\n",
      "1 matrices computed\n",
      "Trying to guess symbolic coefficients\n",
      "Trying to guess symbolic coefficients\n",
      "loss = 77\n",
      "2 matrices computed\n",
      "Trying to guess symbolic coefficients\n",
      "Trying to guess symbolic coefficients\n",
      "loss = 132\n",
      "3 matrices computed\n",
      "Current order of truncation = 100\n",
      "Current working precision = 768 (before monodromy computation)\n",
      "Current algebraic degree = 1\n",
      "Starting to compute the monodromy matrices\n",
      "1 matrices computed\n",
      "Trying to guess symbolic coefficients\n",
      "Trying to guess symbolic coefficients\n",
      "2 matrices computed\n",
      "Trying to guess symbolic coefficients\n",
      "loss = 135\n",
      "3 matrices computed\n",
      "Trying to guess symbolic coefficients\n",
      "loss = 138\n",
      "4 matrices computed\n",
      "Trying to guess symbolic coefficients\n",
      "Trying to guess symbolic coefficients\n",
      "loss = 156\n",
      "5 matrices computed\n",
      "Trying to guess symbolic coefficients\n",
      "loss = 159\n",
      "6 matrices computed\n",
      "Current order of truncation = 100\n",
      "Current working precision = 1377 (before monodromy computation)\n",
      "Current algebraic degree = 1\n",
      "Starting to compute the monodromy matrices\n",
      "1 matrices computed\n",
      "Trying to guess symbolic coefficients\n",
      "2 matrices computed\n",
      "Trying to guess symbolic coefficients\n",
      "loss = 169\n",
      "3 matrices computed\n",
      "Trying to guess symbolic coefficients\n",
      "Trying to guess symbolic coefficients\n",
      "loss = 171\n",
      "4 matrices computed\n",
      "Trying to guess symbolic coefficients\n",
      "Trying to guess symbolic coefficients\n",
      "loss = 189\n",
      "5 matrices computed\n",
      "Trying to guess symbolic coefficients\n",
      "loss = 193\n",
      "6 matrices computed\n",
      "Trying to guess symbolic coefficients\n",
      "Found rational coefficients\n",
      "7 matrices computed\n",
      "Trying to guess symbolic coefficients\n",
      "Found rational coefficients\n",
      "Current order of truncation = 200\n",
      "Current working precision = 2561 (before monodromy computation)\n",
      "Current algebraic degree = 2\n",
      "Starting to compute the monodromy matrices\n",
      "1 matrices computed\n",
      "Trying to guess symbolic coefficients\n",
      "Trying to guess symbolic coefficients\n",
      "2 matrices computed\n",
      "Trying to guess symbolic coefficients\n",
      "Found rational coefficients\n",
      "Trying to guess symbolic coefficients\n",
      "3 matrices computed\n",
      "Trying to guess symbolic coefficients\n",
      "4 matrices computed\n",
      "Trying to guess symbolic coefficients\n",
      "Trying to guess symbolic coefficients\n",
      "5 matrices computed\n",
      "Trying to guess symbolic coefficients\n",
      "6 matrices computed\n",
      "Trying to guess symbolic coefficients\n",
      "Found rational coefficients\n",
      "Concluded with One_Dimensional method\n",
      "### Trying to factor an operator of order 5\n",
      "Degree bound for right factor = 1784\n",
      "Current order of truncation = 85\n",
      "Current working precision = 300 (before monodromy computation)\n",
      "Current algebraic degree = 1\n",
      "Starting to compute the monodromy matrices\n",
      "loss = 22\n",
      "1 matrices computed\n",
      "Trying to guess symbolic coefficients\n",
      "loss = 24\n",
      "2 matrices computed\n",
      "Trying to guess symbolic coefficients\n",
      "loss = 26\n",
      "3 matrices computed\n",
      "Trying to guess symbolic coefficients\n",
      "Trying to guess symbolic coefficients\n",
      "loss = 27\n",
      "4 matrices computed\n",
      "Trying to guess symbolic coefficients\n",
      "Trying to guess symbolic coefficients\n",
      "loss = 35\n",
      "5 matrices computed\n",
      "Trying to guess symbolic coefficients\n",
      "loss = 36\n",
      "6 matrices computed\n",
      "Trying to guess symbolic coefficients\n",
      "Found rational coefficients\n",
      "7 matrices computed\n",
      "Concluded with One_Dimensional method\n"
     ]
    },
    {
     "data": {
      "text/plain": [
       "[1, 1, 1, 5]"
      ]
     },
     "execution_count": 39,
     "metadata": {},
     "output_type": "execute_result"
    }
   ],
   "source": [
    "PF3massepsilon0=OA(SR(PF3mass).coefficient(epsilon,0))\n",
    "FacPF3massepsilon0=PF3massepsilon0.factor(verbose=True)\n",
    "[x.order() for x in FacPF3massepsilon0]"
   ]
  },
  {
   "cell_type": "code",
   "execution_count": 70,
   "id": "28672919",
   "metadata": {},
   "outputs": [],
   "source": [
    "q3mass = dict()\n",
    "with open(\"/Users/pierre/Git/PicardFuchs/PF3sunset-3mass-dert-Coefficients.txt\") as f:\n",
    "    for e in f.read().replace(\"\\n\", \"\").split(\";\"):\n",
    "        if e:\n",
    "            name, expr = e.split(\":=\")\n",
    "            name = name.strip()\n",
    "            expr = SR(expr)\n",
    "            if name[0] == \"q\":\n",
    "                q3mass[int(name[1:])] = expr"
   ]
  },
  {
   "cell_type": "code",
   "execution_count": 91,
   "id": "6db75398",
   "metadata": {},
   "outputs": [],
   "source": [
    "q3mass5=q3mass[5].substitute(m4=1,m3=7,m1=17)\n",
    "q3mass4=q3mass[4].substitute(m4=1,m3=7,m1=17)\n",
    "q3mass3=q3mass[3].substitute(m4=1,m3=7,m1=17)\n",
    "q3mass2=q3mass[2].substitute(m4=1,m3=7,m1=17)\n",
    "q3mass1=q3mass[1].substitute(m4=1,m3=7,m1=17)\n",
    "q3mass0=q3mass[0].substitute(m4=1,m3=7,m1=17)\n",
    "L3mass=OA0(q3mass5)*Dt^5+OA0(q3mass4)*Dt^4+OA0(q3mass3)*Dt^3+OA0(q3mass2)*Dt^2+OA0(q3mass1)*Dt+OA0(q3mass0)"
   ]
  },
  {
   "cell_type": "code",
   "execution_count": 94,
   "id": "abd821ba",
   "metadata": {},
   "outputs": [
    {
     "data": {
      "text/plain": [
       "0"
      ]
     },
     "execution_count": 94,
     "metadata": {},
     "output_type": "execute_result"
    }
   ],
   "source": [
    "L3mass-10*FacPF3massepsilon0[3]"
   ]
  },
  {
   "cell_type": "code",
   "execution_count": 24,
   "id": "22a774eb",
   "metadata": {},
   "outputs": [],
   "source": [
    "# The numerical cases for the 3-loop sunset"
   ]
  },
  {
   "cell_type": "code",
   "execution_count": 27,
   "id": "e987e08b",
   "metadata": {},
   "outputs": [],
   "source": [
    "epsilon=var('epsilon')"
   ]
  },
  {
   "cell_type": "code",
   "execution_count": 49,
   "id": "6e4de782",
   "metadata": {},
   "outputs": [],
   "source": [
    "from ore_algebra import *\n",
    "OA, t, Dt = DifferentialOperators(QQ, 't')"
   ]
  },
  {
   "cell_type": "code",
   "execution_count": 50,
   "id": "aa88f4ce",
   "metadata": {},
   "outputs": [],
   "source": [
    "L2mass22 = open(\"PF3sunset2mass22num.txt\").readlines()[0]\n",
    "#dopKited4case1 = OA(s.replace(\"^\", \"**\"))\n",
    "#[dopKited4case1.order(),dopKited4case1.degree(),dopKited4case1.indicial_polynomial(z).factor()]"
   ]
  },
  {
   "cell_type": "code",
   "execution_count": 51,
   "id": "87af343c",
   "metadata": {},
   "outputs": [
    {
     "data": {
      "text/plain": [
       "9"
      ]
     },
     "execution_count": 51,
     "metadata": {},
     "output_type": "execute_result"
    }
   ],
   "source": [
    "SR(L2mass22).degree(epsilon)"
   ]
  },
  {
   "cell_type": "code",
   "execution_count": 58,
   "id": "a8a58cc4",
   "metadata": {},
   "outputs": [
    {
     "data": {
      "text/plain": [
       "[[0, 6],\n",
       " [1, 6],\n",
       " [2, 6],\n",
       " [3, 6],\n",
       " [4, 5],\n",
       " [5, 4],\n",
       " [6, 3],\n",
       " [7, 2],\n",
       " [8, 1],\n",
       " [9, 0]]"
      ]
     },
     "execution_count": 58,
     "metadata": {},
     "output_type": "execute_result"
    }
   ],
   "source": [
    "[[r,OA(SR(L2mass22).coefficient(epsilon,r)).order()] for r in range(10)]"
   ]
  },
  {
   "cell_type": "code",
   "execution_count": 36,
   "id": "508098ce",
   "metadata": {},
   "outputs": [],
   "source": [
    "L2mass31 = open(\"PF3sunset2mass31num.txt\").readlines()[0]\n",
    "#dopKited4case1 = OA(s.replace(\"^\", \"**\"))\n",
    "#[dopKited4case1.order(),dopKited4case1.degree(),dopKited4case1.indicial_polynomial(z).factor()]"
   ]
  },
  {
   "cell_type": "code",
   "execution_count": 44,
   "id": "a04d2bae",
   "metadata": {},
   "outputs": [
    {
     "data": {
      "text/plain": [
       "6"
      ]
     },
     "execution_count": 44,
     "metadata": {},
     "output_type": "execute_result"
    }
   ],
   "source": [
    "SR(L2mass31).degree(epsilon)"
   ]
  },
  {
   "cell_type": "code",
   "execution_count": 59,
   "id": "256c1e00",
   "metadata": {},
   "outputs": [
    {
     "data": {
      "text/plain": [
       "[[0, 5], [1, 5], [2, 4], [3, 3], [4, 2], [5, 1], [6, 0]]"
      ]
     },
     "execution_count": 59,
     "metadata": {},
     "output_type": "execute_result"
    }
   ],
   "source": [
    "[[r,OA(SR(L2mass31).coefficient(epsilon,r)).order()] for r in range(7)]"
   ]
  },
  {
   "cell_type": "code",
   "execution_count": 37,
   "id": "ae250271",
   "metadata": {},
   "outputs": [],
   "source": [
    "L3mass = open(\"PF3sunset3massnum.txt\").readlines()[0]\n",
    "#dopKited4case1 = OA(s.replace(\"^\", \"**\"))\n",
    "#[dopKited4case1.order(),dopKited4case1.degree(),dopKited4case1.indicial_polynomial(z).factor()]"
   ]
  },
  {
   "cell_type": "code",
   "execution_count": 42,
   "id": "83174f65",
   "metadata": {},
   "outputs": [
    {
     "data": {
      "text/plain": [
       "15"
      ]
     },
     "execution_count": 42,
     "metadata": {},
     "output_type": "execute_result"
    }
   ],
   "source": [
    "SR(L3mass).degree(epsilon)"
   ]
  },
  {
   "cell_type": "code",
   "execution_count": 60,
   "id": "47d53014",
   "metadata": {},
   "outputs": [
    {
     "data": {
      "text/plain": [
       "[[0, 8],\n",
       " [1, 8],\n",
       " [2, 8],\n",
       " [3, 8],\n",
       " [4, 8],\n",
       " [5, 8],\n",
       " [6, 8],\n",
       " [7, 8],\n",
       " [8, 7],\n",
       " [9, 6],\n",
       " [10, 5],\n",
       " [11, 4],\n",
       " [12, 3],\n",
       " [13, 2],\n",
       " [14, 1],\n",
       " [15, 0]]"
      ]
     },
     "execution_count": 60,
     "metadata": {},
     "output_type": "execute_result"
    }
   ],
   "source": [
    "[[r,OA(SR(L3mass).coefficient(epsilon,r)).order()] for r in range(16)]"
   ]
  },
  {
   "cell_type": "code",
   "execution_count": null,
   "id": "f3c4abc9",
   "metadata": {},
   "outputs": [],
   "source": []
  }
 ],
 "metadata": {
  "kernelspec": {
   "display_name": "SageMath 10.2",
   "language": "sage",
   "name": "sagemath"
  },
  "language_info": {
   "codemirror_mode": {
    "name": "ipython",
    "version": 3
   },
   "file_extension": ".py",
   "mimetype": "text/x-python",
   "name": "python",
   "nbconvert_exporter": "python",
   "pygments_lexer": "ipython3",
   "version": "3.11.1"
  }
 },
 "nbformat": 4,
 "nbformat_minor": 5
}
