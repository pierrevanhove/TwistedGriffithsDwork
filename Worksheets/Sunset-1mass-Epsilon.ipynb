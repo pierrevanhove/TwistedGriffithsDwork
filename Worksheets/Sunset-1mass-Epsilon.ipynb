{
 "cells": [
  {
   "cell_type": "code",
   "execution_count": null,
   "id": "9ea7d25c-1656-4419-9b45-263b6a1924dc",
   "metadata": {},
   "outputs": [],
   "source": []
  },
  {
   "cell_type": "markdown",
   "id": "c5fe29b4",
   "metadata": {},
   "source": [
    "<center><h1>The minimal order differential equation for the all equal mass multiloop sunset integrals in general dimensions</h1></center>"
   ]
  },
  {
   "cell_type": "markdown",
   "id": "8a363466",
   "metadata": {},
   "source": [
    "\\begin{equation}\n",
    "  \\Omega^{(n-1)}_\\circleddash( t,\\epsilon)={\\Omega^{(n)}_0\\over\n",
    "    \\textbf{F}_{n-1}(t)}\\left(\\textbf{U}_{n-1}^n\\over \\textbf{F}_{n-1}(t)^{n-1}\\right)^\\epsilon\n",
    "\\end{equation}\n",
    "with\n",
    "\\begin{equation}\n",
    "  \\textbf{ U}_{n-1}= x_1\\cdots x_n\\sum_{i=1}^n {1\\over x_i},\\qquad\n",
    "      \\textbf{   F}_{n-1}(t)= \\textbf{U}_{n-1} \\left(\\sum_{i=1}^n x_i\\right)-t x_1\\cdots x_n\n",
    "\\end{equation}"
   ]
  },
  {
   "cell_type": "markdown",
   "id": "a240515b",
   "metadata": {},
   "source": [
    "<center><h2>The all equal mass case up to 20 loops</h2></center>\n",
    " The Picard-Fuchs operator at loop L is in PF[L]\n",
    " $$\\mathscr{L}^{(l),\\epsilon} I^{(l)}(t,\\epsilon)=-(l+1)! {\\Gamma(1+\\epsilon)^l\\over \\Gamma(1+l\\epsilon)}$$\n",
    " with \n",
    "$$ \\mathscr{L}^{(l),\\epsilon}=\\sum_{r=0}^l \\mathscr{L}^{(l),r} \\epsilon^r$$\n",
    "where $ \\mathscr{L}^{(l),r}$ is differential operator in $t$ of order $l-r$."
   ]
  },
  {
   "cell_type": "code",
   "execution_count": 1,
   "id": "a5eed4cc",
   "metadata": {},
   "outputs": [],
   "source": [
    "epsilon=var('epsilon')"
   ]
  },
  {
   "cell_type": "code",
   "execution_count": 2,
   "id": "6a8857a9",
   "metadata": {},
   "outputs": [],
   "source": [
    "from ore_algebra import *\n",
    "OA, t, Dt = DifferentialOperators(QQ, 't')\n",
    "OAepsilon, t, Dt = DifferentialOperators(QQ[epsilon], 't')"
   ]
  },
  {
   "cell_type": "code",
   "execution_count": 3,
   "id": "1529aabc",
   "metadata": {},
   "outputs": [
    {
     "name": "stdout",
     "output_type": "stream",
     "text": [
      "loading result at loop order  1\n",
      "loading result at loop order  2\n",
      "loading result at loop order  3\n",
      "loading result at loop order  4\n",
      "loading result at loop order  5\n",
      "loading result at loop order  6\n",
      "loading result at loop order  7\n",
      "loading result at loop order  8\n",
      "loading result at loop order  9\n",
      "loading result at loop order  10\n",
      "loading result at loop order  11\n",
      "loading result at loop order  12\n",
      "loading result at loop order  13\n",
      "loading result at loop order  14\n",
      "loading result at loop order  15\n",
      "loading result at loop order  16\n",
      "loading result at loop order  17\n",
      "loading result at loop order  18\n",
      "loading result at loop order  19\n",
      "loading result at loop order  20\n"
     ]
    }
   ],
   "source": [
    "# PFEqualMass[l] where l is the loop order  l=1,..,20\n",
    "PFEqualMass=dict()\n",
    "with open(\"PFSunsetEqualMass-1to20.txt\") as f:\n",
    "    for e in f.read().replace(\"\\n\", \"\").split(\";\"):\n",
    "            if e:\n",
    "                name, expr = e.split(\":=\")\n",
    "                num=int(name.strip(\"PFEqualMass\"))\n",
    "                print(\"loading result at loop order \",num)\n",
    "                PFEqualMass[num] =  SR(expr)"
   ]
  },
  {
   "cell_type": "code",
   "execution_count": 6,
   "id": "d20be3c4-4b4c-49f5-92a5-4c203b3c656d",
   "metadata": {},
   "outputs": [
    {
     "data": {
      "text/plain": [
       "-(t^2 - 4*t)*Dt - epsilon*t - t + 2"
      ]
     },
     "execution_count": 6,
     "metadata": {},
     "output_type": "execute_result"
    }
   ],
   "source": [
    "PFEqualMass[1] "
   ]
  },
  {
   "cell_type": "code",
   "execution_count": 7,
   "id": "695720ea-a37f-4857-a8f5-8c39cc7d598e",
   "metadata": {},
   "outputs": [
    {
     "data": {
      "text/plain": [
       "(t^3 - 10*t^2 + 9*t)*Dt^2 + 2*epsilon^2*t + (3*epsilon*t^2 - 10*epsilon*t + 3*t^2 - 9*epsilon - 20*t + 9)*Dt + 2*epsilon^2 + 3*epsilon*t - 5*epsilon + t - 3"
      ]
     },
     "execution_count": 7,
     "metadata": {},
     "output_type": "execute_result"
    }
   ],
   "source": [
    "PFEqualMass[2] "
   ]
  },
  {
   "cell_type": "code",
   "execution_count": 8,
   "id": "4a15bfb1-ec27-46db-a23e-c821b7b67b16",
   "metadata": {},
   "outputs": [
    {
     "data": {
      "text/plain": [
       "(t^11 - 286*t^10 + 28743*t^9 - 1234948*t^8 + 21967231*t^7 - 128816766*t^6 + 108056025*t^5)*Dt^10 + 3628800*epsilon^10*t + 5*(11*epsilon*t^10 - 2574*epsilon*t^9 + 11*t^10 + 201201*epsilon*t^8 - 2860*t^9 - 6174740*epsilon*t^7 + 258687*t^8 + 65901693*epsilon*t^6 - 9879584*t^7 - 128816766*epsilon*t^5 + 153770617*t^6 - 108056025*epsilon*t^4 - 772900596*t^5 + 540280125*t^4)*Dt^9 + 32659200*epsilon^10 + 10628640*epsilon^9*t + 3*(440*epsilon^2*t^9 - 82082*epsilon^2*t^8 + 825*epsilon*t^9 + 4778774*epsilon^2*t^7 - 173745*epsilon*t^8 + 385*t^9 - 95898660*epsilon^2*t^6 + 12072060*epsilon*t^7 - 89947*t^8 + 462556276*epsilon^2*t^5 - 324173850*epsilon*t^6 + 7212634*t^7 + 472682502*epsilon^2*t^4 + 2965576185*epsilon*t^5 - 239995470*t^6 + 360186750*epsilon^2*t^3 - 4830628725*epsilon*t^4 + 3179445581*t^5 - 3241680750*epsilon*t^3 - 13160868183*t^4 + 7203735000*t^3)*Dt^8 + 23081760*epsilon^9 + 12753576*epsilon^8*t + 2*(9075*epsilon^3*t^8 - 1305018*epsilon^3*t^7 + 23760*epsilon^2*t^8 + 53148381*epsilon^3*t^6 - 3939936*epsilon^2*t^7 + 20625*epsilon*t^8 - 591164860*epsilon^3*t^5 + 200708508*epsilon^2*t^6 - 3853278*epsilon*t^7 + 5940*t^8 + 99068749*epsilon^3*t^4 - 3452351760*epsilon^2*t^5 + 233435631*epsilon*t^6 - 1228656*t^7 + 1672491798*epsilon^3*t^3 + 13876688280*epsilon^2*t^4 - 5340008960*epsilon*t^5 + 85633548*t^6 - 540280125*epsilon^3*t^2 + 11344380048*epsilon^2*t^3 + 40257642659*epsilon*t^4 - 2415699000*t^5 + 6483361500*epsilon^2*t^2 - 51139724562*epsilon*t^3 + 26186589780*t^4 - 25393165875*epsilon*t^2 - 83990657592*t^3 + 32416807500*t^2)*Dt^7 - 25214616*epsilon^8 + 8409500*epsilon^7*t + (157773*epsilon^4*t^7 - 16711266*epsilon^4*t^6 + 508200*epsilon^3*t^7 + 430283139*epsilon^4*t^5 - 63945882*epsilon^3*t^6 + 609840*epsilon^2*t^7 - 1650162956*epsilon^4*t^4 + 2232232002*epsilon^3*t^5 - 88254738*epsilon^2*t^6 + 323400*epsilon*t^7 - 6696452781*epsilon^4*t^3 - 20690770100*epsilon^3*t^4 + 3834401571*epsilon^2*t^5 - 52594542*epsilon*t^6 + 63987*t^7 - 10170146034*epsilon^4*t^2 + 2773924972*epsilon^3*t^3 - 54436007236*epsilon^2*t^4 + 2705925222*epsilon*t^5 - 11492052*t^6 + 540280125*epsilon^4*t + 35122327758*epsilon^3*t^2 + 171214406850*epsilon^2*t^3 - 50747296600*epsilon*t^4 + 677621802*t^5 - 7563921750*epsilon^3*t + 106091145558*epsilon^2*t^2 + 296852662652*epsilon*t^3 - 15585074700*t^4 + 38359888875*epsilon^2*t - 262388590002*epsilon*t^2 + 130174390851*t^3 - 83203139250*epsilon*t - 292175560728*t^2 + 64833615000*t)*Dt^6 - 39389220*epsilon^7 + 3416930*epsilon^6*t + 3*(300685*epsilon^5*t^6 - 21969090*epsilon^5*t^5 + 1104411*epsilon^4*t^6 + 292829251*epsilon^5*t^4 - 100267596*epsilon^4*t^5 + 1609300*epsilon^3*t^6 + 589793412*epsilon^5*t^3 + 2151415695*epsilon^4*t^4 - 172959930*epsilon^3*t^5 + 1164240*epsilon^2*t^6 - 126697917*epsilon^5*t^2 - 6600651824*epsilon^4*t^3 + 4993522677*epsilon^3*t^4 - 143414700*epsilon^2*t^5 + 418495*epsilon*t^6 + 2875490334*epsilon^5*t - 20089358343*epsilon^4*t^2 - 36384372544*epsilon^3*t^3 + 5122412295*epsilon^2*t^4 - 57734820*epsilon*t^5 + 59829*t^6 - 36018675*epsilon^5 - 20340292068*epsilon^4*t + 2007445798*epsilon^3*t^2 - 56634280144*epsilon^2*t^3 + 2429065496*epsilon*t^4 - 9084504*t^5 + 540280125*epsilon^4 + 27315594234*epsilon^3*t + 125095948710*epsilon^2*t^2 - 35214812516*epsilon*t^3 + 435919770*t^4 - 3061587375*epsilon^3 + 53360970444*epsilon^2*t + 144386810375*epsilon*t^2 - 7699632720*t^3 + 8104201875*epsilon^2 - 70410618720*epsilon*t + 44800613553*t^2 - 9869116950*epsilon - 57718415808*t + 4322241000)*Dt^5 - 22362910*epsilon^6 + 902055*epsilon^5*t + (3416930*epsilon^6*t^5 - 155160434*epsilon^6*t^4 + 13530825*epsilon^5*t^5 + 536153436*epsilon^6*t^3 - 823840875*epsilon^5*t^4 + 22088220*epsilon^4*t^5 + 4930063236*epsilon^6*t^2 + 8784877530*epsilon^5*t^3 - 1662820159*epsilon^4*t^4 + 19057500*epsilon^3*t^5 + 10987830306*epsilon^6*t + 13270351770*epsilon^5*t^2 + 28179487570*epsilon^4*t^3 - 1690056225*epsilon^3*t^4 + 9175320*epsilon^2*t^5 - 2446455474*epsilon^6 - 1900468755*epsilon^5*t - 61676398452*epsilon^4*t^2 + 38194080210*epsilon^3*t^3 - 928118191*epsilon^2*t^4 + 2338875*epsilon*t^5 + 21566177505*epsilon^5 - 125247008790*epsilon^4*t - 197925279240*epsilon^3*t^2 + 25752198082*epsilon^2*t^3 - 263706300*epsilon*t^4 + 246730*t^5 - 57479743989*epsilon^4 - 11497187610*epsilon^3*t - 200889149472*epsilon^2*t^2 + 8559416580*epsilon*t^3 - 30475016*t^4 + 29255317965*epsilon^3 + 249899535702*epsilon^2*t - 86832485610*epsilon*t^2 + 1120850848*t^3 + 56888814159*epsilon^2 + 204096211245*epsilon*t - 13742174184*t^2 - 27682316190*epsilon + 45732936798*t - 20101793976)*Dt^4 - 7104825*epsilon^5 + 157773*epsilon^4*t + (8409500*epsilon^7*t^4 - 194635584*epsilon^7*t^3 + 34169300*epsilon^6*t^4 - 807508728*epsilon^7*t^2 - 1241283472*epsilon^6*t^3 + 58633575*epsilon^5*t^4 - 703795392*epsilon^7*t + 3216920616*epsilon^6*t^2 - 2834272584*epsilon^5*t^3 + 55220550*epsilon^4*t^4 - 5848565796*epsilon^7 + 19720252944*epsilon^6*t + 22062558674*epsilon^5*t^2 - 3275801672*epsilon^4*t^3 + 30873150*epsilon^3*t^4 + 21975660612*epsilon^6 + 23947572024*epsilon^5*t + 39991983720*epsilon^4*t^2 - 2141732736*epsilon^3*t^3 + 10256400*epsilon^2*t^4 + 3823182711*epsilon^5 - 48686039088*epsilon^4*t + 34480649372*epsilon^3*t^2 - 805750088*epsilon^2*t^3 + 1875775*epsilon*t^4 - 49600434150*epsilon^4 - 103638689496*epsilon^3*t + 15763597512*epsilon^2*t^2 - 163098936*epsilon*t^3 + 145750*t^4 - 15828167250*epsilon^3 - 71186686368*epsilon^2*t + 3696470570*epsilon*t^2 - 13787488*t^3 + 25934127984*epsilon^2 - 21527697312*epsilon*t + 350800008*t^2 + 16783872543*epsilon - 2444401536*t + 2760323346)*Dt^3 - 1397823*epsilon^4 + 18150*epsilon^3*t + (12753576*epsilon^8*t^3 - 82623528*epsilon^8*t^2 + 50457000*epsilon^7*t^3 - 1040227272*epsilon^8*t - 875860128*epsilon^7*t^2 + 85423250*epsilon^6*t^3 - 2843350776*epsilon^8 - 2422526184*epsilon^7*t - 2297084062*epsilon^6*t^2 + 81184950*epsilon^5*t^3 - 1055693088*epsilon^7 + 3519760734*epsilon^6*t - 2868136128*epsilon^5*t^2 + 47489673*epsilon^4*t^3 + 11046013038*epsilon^6 + 13478410842*epsilon^5*t - 2033527626*epsilon^4*t^2 + 17532900*epsilon^3*t^3 + 9380654496*epsilon^5 + 14814962517*epsilon^4*t - 867381372*epsilon^3*t^2 + 3993000*epsilon^2*t^3 - 4012858704*epsilon^4 + 8211386976*epsilon^3*t - 221083278*epsilon^2*t^2 + 513150*epsilon*t^3 - 7896716964*epsilon^3 + 2505065664*epsilon^2*t - 31088772*epsilon*t^2 + 28501*t^3 - 3772650486*epsilon^2 + 402060750*epsilon*t - 1857986*t^2 - 783789948*epsilon + 26593653*t - 61607568)*Dt^2 - 174330*epsilon^3 + 1320*epsilon^2*t + (10628640*epsilon^9*t^2 + 46163520*epsilon^9*t + 38260728*epsilon^8*t^2 - 118856160*epsilon^9 - 165247056*epsilon^8*t + 58866500*epsilon^7*t^2 - 1040227272*epsilon^8 - 662685192*epsilon^7*t + 51253950*epsilon^6*t^2 - 1007782668*epsilon^7 - 870317708*epsilon^6*t + 27963705*epsilon^5*t^2 + 302840118*epsilon^6 - 608155002*epsilon^5*t + 9939699*epsilon^4*t^2 + 964507917*epsilon^5 - 255705996*epsilon^4*t + 2305050*epsilon^3*t^2 + 639967137*epsilon^4 - 66943188*epsilon^3*t + 336600*epsilon^2*t^2 + 214961178*epsilon^3 - 10705812*epsilon^2*t + 28105*epsilon*t^2 + 40373772*epsilon^2 - 958698*epsilon*t + 1023*t^2 + 4046853*epsilon - 36868*t + 169125)*Dt - 13440*epsilon^2 + 55*epsilon*t - 585*epsilon + t - 11"
      ]
     },
     "execution_count": 8,
     "metadata": {},
     "output_type": "execute_result"
    }
   ],
   "source": [
    "PFEqualMass[10] "
   ]
  },
  {
   "cell_type": "code",
   "execution_count": null,
   "id": "c049edf6-9beb-46bc-8273-656b4b73b35e",
   "metadata": {},
   "outputs": [],
   "source": []
  }
 ],
 "metadata": {
  "kernelspec": {
   "display_name": "SageMath 10.2",
   "language": "sage",
   "name": "sagemath"
  },
  "language_info": {
   "codemirror_mode": {
    "name": "ipython",
    "version": 3
   },
   "file_extension": ".py",
   "mimetype": "text/x-python",
   "name": "python",
   "nbconvert_exporter": "python",
   "pygments_lexer": "ipython3",
   "version": "3.11.1"
  }
 },
 "nbformat": 4,
 "nbformat_minor": 5
}
