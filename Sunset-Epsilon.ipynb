{
 "cells": [
  {
   "cell_type": "markdown",
   "id": "c5fe29b4",
   "metadata": {},
   "source": [
    "<center><h1>The minimal order differential equation for the sunset integral in general dimensions</h1></center>"
   ]
  },
  {
   "cell_type": "markdown",
   "id": "8a363466",
   "metadata": {},
   "source": [
    "\\begin{equation}\n",
    "  \\Omega^{(n-1)}_\\circleddash(\\vec m, t,\\epsilon)={\\Omega^{(n)}_0\\over\n",
    "    \\textbf{F}_{n-1}(t)}\\left(\\textbf{U}_{n-1}^n\\over \\textbf{F}_{n-1}(t)^{n-1}\\right)^\\epsilon\n",
    "\\end{equation}\n",
    "with\n",
    "\\begin{align}\n",
    "  \\textbf{ U}_{n-1}&= x_1\\cdots x_n\\sum_{i=1}^n {1\\over x_i} \\cr\n",
    "      \\textbf{   F}_{n-1}(t)&= \\textbf{U}_{n-1} \\sum_{i=1}^n m_i^2x_i-t x_1\\cdots x_n\n",
    "\\end{align}"
   ]
  },
  {
   "cell_type": "markdown",
   "id": "a240515b",
   "metadata": {},
   "source": [
    "<center><h2>The all equal mass case up to 20 loops</h2></center>\n",
    " The Picard-Fuchs operator at loop L is in PF[L]\n",
    " $$\\mathscr{L}^{(l),\\epsilon} I^{(l)}(t,\\epsilon)=-(l+1)! {\\Gamma(1+\\epsilon)^l\\over \\Gamma(1+l\\epsilon)}$$\n",
    " with \n",
    "$$ \\mathscr{L}^{(l),\\epsilon}=\\sum_{r=0}^l \\mathscr{L}^{(l),r} \\epsilon^r$$\n",
    "where $ \\mathscr{L}^{(l),r}$ is differential operator in $t$ of order $l-r$."
   ]
  },
  {
   "cell_type": "code",
   "execution_count": 1,
   "id": "a5eed4cc",
   "metadata": {},
   "outputs": [],
   "source": [
    "epsilon=var('epsilon')"
   ]
  },
  {
   "cell_type": "code",
   "execution_count": 2,
   "id": "6a8857a9",
   "metadata": {},
   "outputs": [],
   "source": [
    "from ore_algebra import *\n",
    "OA, t, Dt = DifferentialOperators(QQ, 't')\n",
    "OAepsilon, t, Dt = DifferentialOperators(QQ[epsilon], 't')"
   ]
  },
  {
   "cell_type": "code",
   "execution_count": 7,
   "id": "1529aabc",
   "metadata": {},
   "outputs": [
    {
     "name": "stdout",
     "output_type": "stream",
     "text": [
      "loading result at loop order  1\n",
      "loading result at loop order  2\n",
      "loading result at loop order  3\n",
      "loading result at loop order  4\n",
      "loading result at loop order  5\n",
      "loading result at loop order  6\n",
      "loading result at loop order  7\n",
      "loading result at loop order  8\n",
      "loading result at loop order  9\n",
      "loading result at loop order  10\n",
      "loading result at loop order  11\n",
      "loading result at loop order  12\n",
      "loading result at loop order  13\n",
      "loading result at loop order  14\n",
      "loading result at loop order  15\n",
      "loading result at loop order  16\n",
      "loading result at loop order  17\n",
      "loading result at loop order  18\n",
      "loading result at loop order  19\n",
      "loading result at loop order  20\n"
     ]
    }
   ],
   "source": [
    "# PFEqualMass[l] where l is the loop order  l=1,..,20\n",
    "PFEqualMass=dict()\n",
    "with open(\"PFSunsetEqualMass-1to20.txt\") as f:\n",
    "    for e in f.read().replace(\"\\n\", \"\").split(\";\"):\n",
    "            if e:\n",
    "                name, expr = e.split(\":=\")\n",
    "                num=int(name.strip(\"PFEqualMass\"))\n",
    "                print(\"loading result at loop order \",num)\n",
    "                PFEqualMass[num] =  SR(expr)"
   ]
  },
  {
   "cell_type": "code",
   "execution_count": 4,
   "id": "fa48f915",
   "metadata": {
    "scrolled": true
   },
   "outputs": [
    {
     "data": {
      "text/plain": [
       "[(-9) * (-alpha + epsilon) * alpha,\n",
       " (-8) * alpha * (alpha + 2*epsilon),\n",
       " (72) * alpha * (alpha + 2*epsilon)]"
      ]
     },
     "execution_count": 4,
     "metadata": {},
     "output_type": "execute_result"
    }
   ],
   "source": [
    "[OAepsilon(PFEqualMass[2]).indicial_polynomial(t-x).factor() for x in [0,1,9]]"
   ]
  },
  {
   "cell_type": "code",
   "execution_count": 5,
   "id": "6bff967d",
   "metadata": {},
   "outputs": [
    {
     "data": {
      "text/plain": [
       "(alpha + epsilon + 1) * (alpha + 2*epsilon + 1)"
      ]
     },
     "execution_count": 5,
     "metadata": {},
     "output_type": "execute_result"
    }
   ],
   "source": [
    "OAepsilon(PFEqualMass[2]).indicial_polynomial(1/t).factor()"
   ]
  },
  {
   "cell_type": "markdown",
   "id": "97f435c7",
   "metadata": {},
   "source": [
    "This means we have the following local solutions \n",
    "\n",
    "Near $t=0$ the local behaviour is $f(t) = 1+ O(t), t^{\\epsilon} (1+O(t))$ : The monodromy matrix is diagonal with $M_0=\\begin{pmatrix}1&0\\cr0&\\exp(\\epsilon 2i\\pi)\\end{pmatrix}$\n",
    "\n",
    "Near $t=1$ the local behaviour is $f(t) = 1+ O(t-1), (t-1)^{-2\\epsilon} (1+O(t-1))$ : The monodromy matrix is diagonal with $M_1=\\begin{pmatrix}1&0\\cr0&\\exp(-2\\epsilon 2i\\pi)\\end{pmatrix}$\n",
    "\n",
    "Near $t=9$ the local behaviour is $f(t) = 1+ O(t-9), (t-9)^{-2\\epsilon} (1+O(t-9))$ : The monodromy matrix is diagonal with $M_9=\\begin{pmatrix}1&0\\cr0&\\exp(-2\\epsilon 2i\\pi)\\end{pmatrix}$\n",
    "\n",
    "Near $t=\\infty$ the local behaviour is $f(t) = t^{-1-\\epsilon}(1+ O(1/t)), t^{-1-2\\epsilon} (1+O(1/t))$: The monodromy matrix is diagonal with $M_\\infty=\\begin{pmatrix}1&0\\cr0&\\exp(3\\epsilon 2i\\pi)\\end{pmatrix}$\n",
    "\n",
    "We can check that $M_0M_1M_9M_\\infty=\\begin{pmatrix}1&0\\cr0&1\\end{pmatrix}$"
   ]
  },
  {
   "cell_type": "code",
   "execution_count": 6,
   "id": "4c375766",
   "metadata": {},
   "outputs": [
    {
     "data": {
      "text/plain": [
       "[(1-1/9*t)^(-2*epsilon)/(1-t)^(2/3)*hypergeom([1/3, 1/3-epsilon],[-epsilon+1],-1/27*t*(t-9)^2/(t-1)^2), t^epsilon*(1-t)^(-2*epsilon-2/3)*hypergeom([1/3, 1/3+epsilon],[epsilon+1],-1/27*t*(t-9)^2/(t-1)^2), (t-9)^(-2*epsilon)/(t-1)^(2/3)*hypergeom([1/3, 1/3-epsilon],[2/3],1/27*(t+3)^3/(t-1)^2), (t-9)^(-2*epsilon)*(t+3)/(t-1)^(4/3)*hypergeom([2/3, 2/3-epsilon],[4/3],1/27*(t+3)^3/(t-1)^2)]"
      ]
     },
     "execution_count": 6,
     "metadata": {},
     "output_type": "execute_result"
    }
   ],
   "source": [
    "maple.set('L',PFEqualMass[2])\n",
    "maple('DEtools[hypergeometricsols](L,[Dt,t])')"
   ]
  },
  {
   "cell_type": "code",
   "execution_count": 7,
   "id": "815a26fc",
   "metadata": {},
   "outputs": [
    {
     "data": {
      "text/plain": [
       "[(-9) * (-alpha + epsilon) * alpha,\n",
       " (64) * (-alpha + epsilon) * alpha * (alpha + epsilon),\n",
       " (-225) * (alpha - 1) * alpha * (alpha - epsilon - 1) * (alpha - epsilon)]"
      ]
     },
     "execution_count": 7,
     "metadata": {},
     "output_type": "execute_result"
    }
   ],
   "source": [
    "[OAepsilon(PFEqualMass[n]).indicial_polynomial(t).factor() for n in range(2,5)]"
   ]
  },
  {
   "cell_type": "code",
   "execution_count": 8,
   "id": "fb6dac22",
   "metadata": {},
   "outputs": [
    {
     "data": {
      "text/plain": [
       "[(alpha + epsilon + 1) * (alpha + 2*epsilon + 1),\n",
       " (-1) * (alpha + epsilon + 1) * (alpha + 2*epsilon + 1) * (alpha + 3*epsilon + 1),\n",
       " (alpha + epsilon + 1) * (alpha + 2*epsilon + 1) * (alpha + 3*epsilon + 1) * (alpha + 4*epsilon + 1)]"
      ]
     },
     "execution_count": 8,
     "metadata": {},
     "output_type": "execute_result"
    }
   ],
   "source": [
    "[OAepsilon(PFEqualMass[n]).indicial_polynomial(1/t).factor() for n in range(2,5)]"
   ]
  },
  {
   "cell_type": "code",
   "execution_count": 9,
   "id": "a4d7ddb7",
   "metadata": {},
   "outputs": [
    {
     "data": {
      "text/plain": [
       "[(72) * alpha * (alpha + 2*epsilon),\n",
       " (-1536) * (alpha - 1) * alpha * (2*alpha + 6*epsilon - 1),\n",
       " (240000) * (alpha - 2) * (alpha - 1) * alpha * (alpha + 4*epsilon - 1)]"
      ]
     },
     "execution_count": 9,
     "metadata": {},
     "output_type": "execute_result"
    }
   ],
   "source": [
    "[OAepsilon(PFEqualMass[n]).indicial_polynomial(t-(n+1)^2).factor() for n in range(2,5)]"
   ]
  },
  {
   "cell_type": "markdown",
   "id": "b2cbbaf5",
   "metadata": {},
   "source": [
    "<center><h2>The two-loop sunset three mass case</h2></center>\n",
    "$$\\mathscr{L}^{(2),\\epsilon}I^{(2)}(\\underline m,t;\\epsilon)=\\mathscr{S}^{(2),\\epsilon}$$\n",
    "where\n",
    "$$\\mathscr{L}^{(2),\\epsilon}_{\\circleddash}= \\mathscr{L}^{(1)}_1\n",
    "     \\mathscr{L}^{(2)}_1    \\mathscr{L}^{3-mass}_{\\circleddash} +\\epsilon\n",
    "     \\mathscr{L}^{(3)}_4+\\epsilon^2  \\mathscr{L}^{(4)}_3+\\epsilon^3\n",
    "     \\mathscr{L}^{(5)}_2+ \\epsilon^4 \\mathscr{L}^{(6)}_1 +\\epsilon^5\n",
    "    \\mathscr{L}^{(7)}_0$$"
   ]
  },
  {
   "cell_type": "code",
   "execution_count": 1,
   "id": "8c72e781",
   "metadata": {},
   "outputs": [
    {
     "name": "stdout",
     "output_type": "stream",
     "text": [
      "loading epsilon order 0\n",
      "loading epsilon order 1\n",
      "loading epsilon order 2\n",
      "loading epsilon order 3\n",
      "loading epsilon order 4\n",
      "loading epsilon order 5\n"
     ]
    }
   ],
   "source": [
    "# PF2Sunset3Mass[n] is the term of order epsilon^n\n",
    "PF2Sunset3Mass=dict()\n",
    "with open(\"PF2Sunset3MassEpsilonCoefficients.txt\") as f:\n",
    "    for e in f.read().replace(\"\\n\", \"\").replace(\" PF\",\"PF\").split(\";\"):\n",
    "            if e:\n",
    "                name, expr = e.split(\" := \")\n",
    "                if name[0] == \"P\":\n",
    "                    _,num=name.split(\"PF\")\n",
    "                    print(\"loading epsilon order\", num)\n",
    "                    PF2Sunset3Mass[int(num)] =  SR(expr)\n",
    "                else:\n",
    "                    if name == \"Source\":\n",
    "                        Source=SR(expr)\n",
    "                    else: \n",
    "                        SourceSeries = SR(expr)"
   ]
  },
  {
   "cell_type": "markdown",
   "id": "49b86465",
   "metadata": {},
   "source": [
    "This is the factorisation of the $\\epsilon^0$ term"
   ]
  },
  {
   "cell_type": "code",
   "execution_count": 11,
   "id": "72b39df3",
   "metadata": {},
   "outputs": [],
   "source": [
    "PF2Sunset3MassFactorized=dict()\n",
    "with open(\"PF2sunsetEpsilon0-Factorized.txt\") as f:\n",
    "    for e in f.read().replace(\"\\n\", \"\").split(\";\"):\n",
    "            if e:\n",
    "                name, expr = e.split(\" := \")\n",
    "                _,num=name.split(\"FacLe0\")\n",
    "                PF2Sunset3MassFactorized[int(num)] =  SR(expr)"
   ]
  },
  {
   "cell_type": "markdown",
   "id": "a4f80a0d",
   "metadata": {},
   "source": [
    "The source term"
   ]
  },
  {
   "cell_type": "code",
   "execution_count": 12,
   "id": "3810ebca",
   "metadata": {},
   "outputs": [
    {
     "data": {
      "text/plain": [
       "-2*((6*epsilon^2 + 19*epsilon + 14)*m1^8 - (6*epsilon^2 + 13*epsilon + 7)*m2^8 - ((12*epsilon^2 + 44*epsilon + 35)*m2^2 + (12*epsilon^2 + 44*epsilon + 35)*m3^2 - 2*(4*epsilon^2 + 24*epsilon + 17)*t)*m1^6 + (4*(6*epsilon^2 + 13*epsilon + 7)*m3^2 + (4*epsilon^2 - 8*epsilon - 17)*t)*m2^6 + (3*(6*epsilon + 7)*m2^4 + 3*(6*epsilon + 7)*m3^4 - (28*epsilon^2 + 104*epsilon + 81)*m3^2*t + (2*(6*epsilon + 7)*m3^2 - (28*epsilon^2 + 104*epsilon + 81)*t)*m2^2 - 2*(2*epsilon^2 - 15*epsilon - 32)*t^2)*m1^4 - (6*(6*epsilon^2 + 13*epsilon + 7)*m3^4 + (4*epsilon^2 - 8*epsilon - 17)*m3^2*t - (8*epsilon^2 + 46*epsilon + 45)*t^2)*m2^4 - ((6*epsilon^2 + 13*epsilon + 7)*m3^4 + (8*epsilon^2 + 34*epsilon + 31)*m3^2*t + (2*epsilon^2 + 9*epsilon + 10)*t^2)*(m3^2 - t)^2 + ((12*epsilon^2 + 20*epsilon + 7)*m2^6 + (12*epsilon^2 + 20*epsilon + 7)*m3^6 + 16*(epsilon + 2)^2*m3^4*t - ((12*epsilon^2 + 20*epsilon + 7)*m3^2 - 16*(epsilon + 2)^2*t)*m2^4 - (20*epsilon^2 + 92*epsilon + 113)*m3^2*t^2 - 2*(4*epsilon^2 + 12*epsilon + 3)*t^3 - ((12*epsilon^2 + 20*epsilon + 7)*m3^4 + 32*(epsilon + 2)*epsilon*m3^2*t + (20*epsilon^2 + 92*epsilon + 113)*t^2)*m2^2)*m1^2 + (4*(6*epsilon^2 + 13*epsilon + 7)*m3^6 - (4*epsilon^2 - 8*epsilon - 17)*m3^4*t - 2*(8*epsilon^2 + 38*epsilon + 41)*m3^2*t^2 - (4*epsilon^2 + 16*epsilon + 11)*t^3)*m2^2)*(epsilon + 1)*GAMMA(epsilon + 1)^2/((m2*m3)^(2*epsilon)*GAMMA(2*epsilon + 1)) + 2*((6*epsilon + 7)*(epsilon + 1)^2*m1^8 - (6*epsilon^3 + 25*epsilon^2 + 33*epsilon + 14)*m2^8 - ((12*epsilon^2 + 20*epsilon + 7)*m2^2 + 4*(6*epsilon^2 + 13*epsilon + 7)*m3^2 + (4*epsilon^2 - 8*epsilon - 17)*t)*(epsilon + 1)*m1^6 + ((12*epsilon^2 + 44*epsilon + 35)*m3^2 - 2*(4*epsilon^2 + 24*epsilon + 17)*t)*(epsilon + 1)*m2^6 - (3*(6*epsilon + 7)*m2^4 - 6*(6*epsilon^2 + 13*epsilon + 7)*m3^4 - (4*epsilon^2 - 8*epsilon - 17)*m3^2*t - ((12*epsilon^2 + 20*epsilon + 7)*m3^2 - 16*(epsilon + 2)^2*t)*m2^2 + (8*epsilon^2 + 46*epsilon + 45)*t^2)*(epsilon + 1)*m1^4 - (3*(6*epsilon + 7)*m3^4 - (28*epsilon^2 + 104*epsilon + 81)*m3^2*t - 2*(2*epsilon^2 - 15*epsilon - 32)*t^2)*(epsilon + 1)*m2^4 + ((6*epsilon^2 + 13*epsilon + 7)*m3^4 + (8*epsilon^2 + 34*epsilon + 31)*m3^2*t + (2*epsilon^2 + 9*epsilon + 10)*t^2)*(m3^2 - t)^2*(epsilon + 1) + ((12*epsilon^2 + 44*epsilon + 35)*m2^6 - 4*(6*epsilon^2 + 13*epsilon + 7)*m3^6 + (4*epsilon^2 - 8*epsilon - 17)*m3^4*t - (2*(6*epsilon + 7)*m3^2 - (28*epsilon^2 + 104*epsilon + 81)*t)*m2^4 + 2*(8*epsilon^2 + 38*epsilon + 41)*m3^2*t^2 + (4*epsilon^2 + 16*epsilon + 11)*t^3 + ((12*epsilon^2 + 20*epsilon + 7)*m3^4 + 32*(epsilon + 2)*epsilon*m3^2*t + (20*epsilon^2 + 92*epsilon + 113)*t^2)*m2^2)*(epsilon + 1)*m1^2 - ((12*epsilon^2 + 20*epsilon + 7)*m3^6 + 16*(epsilon + 2)^2*m3^4*t - (20*epsilon^2 + 92*epsilon + 113)*m3^2*t^2 - 2*(4*epsilon^2 + 12*epsilon + 3)*t^3)*(epsilon + 1)*m2^2)*GAMMA(epsilon + 1)^2/((m1*m3)^(2*epsilon)*GAMMA(2*epsilon + 1)) - 2*(12*epsilon^3*m3^8 + 56*epsilon^2*m3^8 + 16*epsilon^3*m3^6*t - (12*epsilon^3 + 44*epsilon^2 + 53*epsilon + 21)*m1^8 - (12*epsilon^3 + 44*epsilon^2 + 53*epsilon + 21)*m2^8 + 85*epsilon*m3^8 + 120*epsilon^2*m3^6*t - 8*epsilon^3*m3^4*t^2 + (4*(6*epsilon^2 + 13*epsilon + 7)*m2^2 + (12*epsilon^2 + 20*epsilon + 7)*m3^2 + (4*epsilon^2 - 8*epsilon - 17)*t)*(2*epsilon + 3)*m1^6 + ((12*epsilon^2 + 20*epsilon + 7)*m3^2 + (4*epsilon^2 - 8*epsilon - 17)*t)*(2*epsilon + 3)*m2^6 + 42*m3^8 + 212*epsilon*m3^6*t + 48*epsilon^2*m3^4*t^2 - 16*epsilon^3*m3^2*t^3 + 102*m3^6*t + 218*epsilon*m3^4*t^2 - 72*epsilon^2*m3^2*t^3 - 4*epsilon^3*t^4 - (6*(6*epsilon^2 + 13*epsilon + 7)*m2^4 - 3*(6*epsilon + 7)*m3^4 - 16*(epsilon + 2)^2*m3^2*t + ((12*epsilon^2 + 20*epsilon + 7)*m3^2 + (4*epsilon^2 - 8*epsilon - 17)*t)*m2^2 - (8*epsilon^2 + 46*epsilon + 45)*t^2)*(2*epsilon + 3)*m1^4 + (3*(6*epsilon + 7)*m3^4 + 16*(epsilon + 2)^2*m3^2*t + (8*epsilon^2 + 46*epsilon + 45)*t^2)*(2*epsilon + 3)*m2^4 + 192*m3^4*t^2 - 84*epsilon*m3^2*t^3 - 24*epsilon^2*t^4 - 18*m3^2*t^3 - 47*epsilon*t^4 + (4*(6*epsilon^2 + 13*epsilon + 7)*m2^6 - (12*epsilon^2 + 44*epsilon + 35)*m3^6 - (28*epsilon^2 + 104*epsilon + 81)*m3^4*t - ((12*epsilon^2 + 20*epsilon + 7)*m3^2 + (4*epsilon^2 - 8*epsilon - 17)*t)*m2^4 - (20*epsilon^2 + 92*epsilon + 113)*m3^2*t^2 - (4*epsilon^2 + 16*epsilon + 11)*t^3 + 2*((6*epsilon + 7)*m3^4 - 16*(epsilon + 2)*epsilon*m3^2*t - (8*epsilon^2 + 38*epsilon + 41)*t^2)*m2^2)*(2*epsilon + 3)*m1^2 - ((12*epsilon^2 + 44*epsilon + 35)*m3^6 + (28*epsilon^2 + 104*epsilon + 81)*m3^4*t + (20*epsilon^2 + 92*epsilon + 113)*m3^2*t^2 + (4*epsilon^2 + 16*epsilon + 11)*t^3)*(2*epsilon + 3)*m2^2 - 30*t^4)*(epsilon + 1)*GAMMA(epsilon + 1)^2/((m1*m2)^(2*epsilon)*(2*epsilon + 3)*GAMMA(2*epsilon + 1))"
      ]
     },
     "execution_count": 12,
     "metadata": {},
     "output_type": "execute_result"
    }
   ],
   "source": [
    "Source"
   ]
  },
  {
   "cell_type": "code",
   "execution_count": 13,
   "id": "94586efc",
   "metadata": {},
   "outputs": [
    {
     "data": {
      "text/plain": [
       "-308*(m1 + m2 + m3)*(m1 + m2 - m3)*(m1 - m2 + m3)*(m1 - m2 - m3)*t^2 + 56*(m1^2 + m2^2 + m3^2)*t^3 + 60*t^4 + 2*(7*m1^8 - 28*m1^6*m2^2 + 42*m1^4*m2^4 - 28*m1^2*m2^6 + 7*m2^8 - 28*m1^6*m3^2 + 28*m1^4*m2^2*m3^2 + 28*m1^2*m2^4*m3^2 - 28*m2^6*m3^2 + 42*m1^4*m3^4 + 28*m1^2*m2^2*m3^4 + 42*m2^4*m3^4 - 28*m1^2*m3^6 - 28*m2^2*m3^6 + 7*m3^8 - 32*m1^6*t + 32*m1^4*m2^2*t + 32*m1^2*m2^4*t - 32*m2^6*t + 32*m1^4*m3^2*t + 192*m1^2*m2^2*m3^2*t + 32*m2^4*m3^2*t + 32*m1^2*m3^4*t + 32*m2^2*m3^4*t - 32*m3^6*t - 276*m1^4*t^2 + 568*m1^2*m2^2*t^2 - 276*m2^4*t^2 + 568*m1^2*m3^2*t^2 + 568*m2^2*m3^2*t^2 - 276*m3^4*t^2 + 84*m1^2*t^3 + 84*m2^2*t^3 + 84*m3^2*t^3 + 57*t^4 - 2*(14*m1^8 - 35*m1^6*m2^2 + 21*m1^4*m2^4 + 7*m1^2*m2^6 - 7*m2^8 - 35*m1^6*m3^2 + 14*m1^4*m2^2*m3^2 - 7*m1^2*m2^4*m3^2 + 28*m2^6*m3^2 + 21*m1^4*m3^4 - 7*m1^2*m2^2*m3^4 - 42*m2^4*m3^4 + 7*m1^2*m3^6 + 28*m2^2*m3^6 - 7*m3^8 + 34*m1^6*t - 81*m1^4*m2^2*t + 64*m1^2*m2^4*t - 17*m2^6*t - 81*m1^4*m3^2*t + 17*m2^4*m3^2*t + 64*m1^2*m3^4*t + 17*m2^2*m3^4*t - 17*m3^6*t - 90*m1^4*t^2 + 195*m1^2*m2^2*t^2 - 109*m2^4*t^2 + 195*m1^2*m3^2*t^2 + 226*m2^2*m3^2*t^2 - 109*m3^4*t^2 + 22*m1^2*t^3 + 17*m2^2*t^3 + 17*m3^2*t^3 + 20*t^4)*ln(m1) + 2*(7*m1^8 - 7*m1^6*m2^2 - 21*m1^4*m2^4 + 35*m1^2*m2^6 - 14*m2^8 - 28*m1^6*m3^2 + 7*m1^4*m2^2*m3^2 - 14*m1^2*m2^4*m3^2 + 35*m2^6*m3^2 + 42*m1^4*m3^4 + 7*m1^2*m2^2*m3^4 - 21*m2^4*m3^4 - 28*m1^2*m3^6 - 7*m2^2*m3^6 + 7*m3^8 + 17*m1^6*t - 64*m1^4*m2^2*t + 81*m1^2*m2^4*t - 34*m2^6*t - 17*m1^4*m3^2*t + 81*m2^4*m3^2*t - 17*m1^2*m3^4*t - 64*m2^2*m3^4*t + 17*m3^6*t + 109*m1^4*t^2 - 195*m1^2*m2^2*t^2 + 90*m2^4*t^2 - 226*m1^2*m3^2*t^2 - 195*m2^2*m3^2*t^2 + 109*m3^4*t^2 - 17*m1^2*t^3 - 22*m2^2*t^3 - 17*m3^2*t^3 - 20*t^4)*ln(m2) + 2*(7*m1^8 - 28*m1^6*m2^2 + 42*m1^4*m2^4 - 28*m1^2*m2^6 + 7*m2^8 - 7*m1^6*m3^2 + 7*m1^4*m2^2*m3^2 + 7*m1^2*m2^4*m3^2 - 7*m2^6*m3^2 - 21*m1^4*m3^4 - 14*m1^2*m2^2*m3^4 - 21*m2^4*m3^4 + 35*m1^2*m3^6 + 35*m2^2*m3^6 - 14*m3^8 + 17*m1^6*t - 17*m1^4*m2^2*t - 17*m1^2*m2^4*t + 17*m2^6*t - 64*m1^4*m3^2*t - 64*m2^4*m3^2*t + 81*m1^2*m3^4*t + 81*m2^2*m3^4*t - 34*m3^6*t + 109*m1^4*t^2 - 226*m1^2*m2^2*t^2 + 109*m2^4*t^2 - 195*m1^2*m3^2*t^2 - 195*m2^2*m3^2*t^2 + 90*m3^4*t^2 - 17*m1^2*t^3 - 17*m2^2*t^3 - 22*m3^2*t^3 - 20*t^4)*ln(m3))*epsilon"
      ]
     },
     "execution_count": 13,
     "metadata": {},
     "output_type": "execute_result"
    }
   ],
   "source": [
    "SourceSeries"
   ]
  },
  {
   "cell_type": "code",
   "execution_count": 14,
   "id": "1925f21b",
   "metadata": {},
   "outputs": [],
   "source": [
    "L0=OA(PF2Sunset3Mass[0].substitute(m1=1,m2=7,m3=17))\n",
    "L1=OA(PF2Sunset3Mass[1].substitute(m1=1,m2=7,m3=17))\n",
    "L2=OA(PF2Sunset3Mass[2].substitute(m1=1,m2=7,m3=17))\n",
    "L3=OA(PF2Sunset3Mass[3].substitute(m1=1,m2=7,m3=17))\n",
    "L4=OA(PF2Sunset3Mass[4].substitute(m1=1,m2=7,m3=17))\n",
    "L5=OA(PF2Sunset3Mass[5].substitute(m1=1,m2=7,m3=17))"
   ]
  },
  {
   "cell_type": "code",
   "execution_count": 15,
   "id": "03f260d2",
   "metadata": {},
   "outputs": [
    {
     "data": {
      "text/plain": [
       "regular = {0, 81, 121, 529, 625, infinity, 3*(-226*epsilon-113+4*(7936*epsilon^2+20586*epsilon+14634)^(1/2))/(2*epsilon+5), -3*(226*epsilon+113+4*(7936*epsilon^2+20586*epsilon+14634)^(1/2))/(2*epsilon+5)}, irregular = {}"
      ]
     },
     "execution_count": 15,
     "metadata": {},
     "output_type": "execute_result"
    }
   ],
   "source": [
    "maple('with(DEtools);')\n",
    "maple.set('L0',L0)\n",
    "maple.set('L1',L1)\n",
    "maple.set('L2',L2)\n",
    "maple.set('L3',L3)\n",
    "maple.set('L4',L4)\n",
    "maple.set('L5',L5)\n",
    "maple.set('Lepsilon','diffop2de(L0+epsilon*L1+epsilon^2*L2+epsilon^3*L3+epsilon^4*L4+epsilon^5*L5,f(t),[Dt,t])')\n",
    "maple('singularities(Lepsilon)')"
   ]
  },
  {
   "cell_type": "code",
   "execution_count": 43,
   "id": "8ad288fe",
   "metadata": {},
   "outputs": [
    {
     "data": {
      "text/plain": [
       "(7*m1^12*t^3 - 42*m1^10*m2^2*t^3 + 105*m1^8*m2^4*t^3 - 140*m1^6*m2^6*t^3 + 105*m1^4*m2^8*t^3 - 42*m1^2*m2^10*t^3 + 7*m2^12*t^3 - 42*m1^10*m3^2*t^3 + 126*m1^8*m2^2*m3^2*t^3 - 84*m1^6*m2^4*m3^2*t^3 - 84*m1^4*m2^6*m3^2*t^3 + 126*m1^2*m2^8*m3^2*t^3 - 42*m2^10*m3^2*t^3 + 105*m1^8*m3^4*t^3 - 84*m1^6*m2^2*m3^4*t^3 - 42*m1^4*m2^4*m3^4*t^3 - 84*m1^2*m2^6*m3^4*t^3 + 105*m2^8*m3^4*t^3 - 140*m1^6*m3^6*t^3 - 84*m1^4*m2^2*m3^6*t^3 - 84*m1^2*m2^4*m3^6*t^3 - 140*m2^6*m3^6*t^3 + 105*m1^4*m3^8*t^3 + 126*m1^2*m2^2*m3^8*t^3 + 105*m2^4*m3^8*t^3 - 42*m1^2*m3^10*t^3 - 42*m2^2*m3^10*t^3 + 7*m3^12*t^3 - 30*m1^10*t^4 + 90*m1^8*m2^2*t^4 - 60*m1^6*m2^4*t^4 - 60*m1^4*m2^6*t^4 + 90*m1^2*m2^8*t^4 - 30*m2^10*t^4 + 90*m1^8*m3^2*t^4 - 328*m1^6*m2^2*m3^2*t^4 + 476*m1^4*m2^4*m3^2*t^4 - 328*m1^2*m2^6*m3^2*t^4 + 90*m2^8*m3^2*t^4 - 60*m1^6*m3^4*t^4 + 476*m1^4*m2^2*m3^4*t^4 + 476*m1^2*m2^4*m3^4*t^4 - 60*m2^6*m3^4*t^4 - 60*m1^4*m3^6*t^4 - 328*m1^2*m2^2*m3^6*t^4 - 60*m2^4*m3^6*t^4 + 90*m1^2*m3^8*t^4 + 90*m2^2*m3^8*t^4 - 30*m3^10*t^4 + 45*m1^8*t^5 - 36*m1^6*m2^2*t^5 - 18*m1^4*m2^4*t^5 - 36*m1^2*m2^6*t^5 + 45*m2^8*t^5 - 36*m1^6*m3^2*t^5 - 124*m1^4*m2^2*m3^2*t^5 - 124*m1^2*m2^4*m3^2*t^5 - 36*m2^6*m3^2*t^5 - 18*m1^4*m3^4*t^5 - 124*m1^2*m2^2*m3^4*t^5 - 18*m2^4*m3^4*t^5 - 36*m1^2*m3^6*t^5 - 36*m2^2*m3^6*t^5 + 45*m3^8*t^5 - 20*m1^6*t^6 - 12*m1^4*m2^2*t^6 - 12*m1^2*m2^4*t^6 - 20*m2^6*t^6 - 12*m1^4*m3^2*t^6 + 344*m1^2*m2^2*m3^2*t^6 - 12*m2^4*m3^2*t^6 - 12*m1^2*m3^4*t^6 - 12*m2^2*m3^4*t^6 - 20*m3^6*t^6 - 15*m1^4*t^7 - 18*m1^2*m2^2*t^7 - 15*m2^4*t^7 - 18*m1^2*m3^2*t^7 - 18*m2^2*m3^2*t^7 - 15*m3^4*t^7 + 18*m1^2*t^8 + 18*m2^2*t^8 + 18*m3^2*t^8 - 5*t^9)*Dt + (21*m1^16 - 168*m1^14*m2^2 + 588*m1^12*m2^4 - 1176*m1^10*m2^6 + 1470*m1^8*m2^8 - 1176*m1^6*m2^10 + 588*m1^4*m2^12 - 168*m1^2*m2^14 + 21*m2^16 - 168*m1^14*m3^2 + 840*m1^12*m2^2*m3^2 - 1512*m1^10*m2^4*m3^2 + 840*m1^8*m2^6*m3^2 + 840*m1^6*m2^8*m3^2 - 1512*m1^4*m2^10*m3^2 + 840*m1^2*m2^12*m3^2 - 168*m2^14*m3^2 + 588*m1^12*m3^4 - 1512*m1^10*m2^2*m3^4 + 756*m1^8*m2^4*m3^4 + 336*m1^6*m2^6*m3^4 + 756*m1^4*m2^8*m3^4 - 1512*m1^2*m2^10*m3^4 + 588*m2^12*m3^4 - 1176*m1^10*m3^6 + 840*m1^8*m2^2*m3^6 + 336*m1^6*m2^4*m3^6 + 336*m1^4*m2^6*m3^6 + 840*m1^2*m2^8*m3^6 - 1176*m2^10*m3^6 + 1470*m1^8*m3^8 + 840*m1^6*m2^2*m3^8 + 756*m1^4*m2^4*m3^8 + 840*m1^2*m2^6*m3^8 + 1470*m2^8*m3^8 - 1176*m1^6*m3^10 - 1512*m1^4*m2^2*m3^10 - 1512*m1^2*m2^4*m3^10 - 1176*m2^6*m3^10 + 588*m1^4*m3^12 + 840*m1^2*m2^2*m3^12 + 588*m2^4*m3^12 - 168*m1^2*m3^14 - 168*m2^2*m3^14 + 21*m3^16 - 196*m1^14*t + 980*m1^12*m2^2*t - 1764*m1^10*m2^4*t + 980*m1^8*m2^6*t + 980*m1^6*m2^8*t - 1764*m1^4*m2^10*t + 980*m1^2*m2^12*t - 196*m2^14*t + 980*m1^12*m3^2*t - 3864*m1^10*m2^2*m3^2*t + 6636*m1^8*m2^4*m3^2*t - 7504*m1^6*m2^6*m3^2*t + 6636*m1^4*m2^8*m3^2*t - 3864*m1^2*m2^10*m3^2*t + 980*m2^12*m3^2*t - 1764*m1^10*m3^4*t + 6636*m1^8*m2^2*m3^4*t - 4872*m1^6*m2^4*m3^4*t - 4872*m1^4*m2^6*m3^4*t + 6636*m1^2*m2^8*m3^4*t - 1764*m2^10*m3^4*t + 980*m1^8*m3^6*t - 7504*m1^6*m2^2*m3^6*t - 4872*m1^4*m2^4*m3^6*t - 7504*m1^2*m2^6*m3^6*t + 980*m2^8*m3^6*t + 980*m1^6*m3^8*t + 6636*m1^4*m2^2*m3^8*t + 6636*m1^2*m2^4*m3^8*t + 980*m2^6*m3^8*t - 1764*m1^4*m3^10*t - 3864*m1^2*m2^2*m3^10*t - 1764*m2^4*m3^10*t + 980*m1^2*m3^12*t + 980*m2^2*m3^12*t - 196*m3^14*t + 904*m1^12*t^2 - 3632*m1^10*m2^2*t^2 + 6392*m1^8*m2^4*t^2 - 7328*m1^6*m2^6*t^2 + 6392*m1^4*m2^8*t^2 - 3632*m1^2*m2^10*t^2 + 904*m2^12*t^2 - 3632*m1^10*m3^2*t^2 + 6800*m1^8*m2^2*m3^2*t^2 - 3168*m1^6*m2^4*m3^2*t^2 - 3168*m1^4*m2^6*m3^2*t^2 + 6800*m1^2*m2^8*m3^2*t^2 - 3632*m2^10*m3^2*t^2 + 6392*m1^8*m3^4*t^2 - 3168*m1^6*m2^2*m3^4*t^2 - 2352*m1^4*m2^4*m3^4*t^2 - 3168*m1^2*m2^6*m3^4*t^2 + 6392*m2^8*m3^4*t^2 - 7328*m1^6*m3^6*t^2 - 3168*m1^4*m2^2*m3^6*t^2 - 3168*m1^2*m2^4*m3^6*t^2 - 7328*m2^6*m3^6*t^2 + 6392*m1^4*m3^8*t^2 + 6800*m1^2*m2^2*m3^8*t^2 + 6392*m2^4*m3^8*t^2 - 3632*m1^2*m3^10*t^2 - 3632*m2^2*m3^10*t^2 + 904*m3^12*t^2 - 2516*m1^10*t^3 + 6332*m1^8*m2^2*t^3 - 3816*m1^6*m2^4*t^3 - 3816*m1^4*m2^6*t^3 + 6332*m1^2*m2^8*t^3 - 2516*m2^10*t^3 + 6332*m1^8*m3^2*t^3 - 16112*m1^6*m2^2*m3^2*t^3 + 27240*m1^4*m2^4*m3^2*t^3 - 16112*m1^2*m2^6*m3^2*t^3 + 6332*m2^8*m3^2*t^3 - 3816*m1^6*m3^4*t^3 + 27240*m1^4*m2^2*m3^4*t^3 + 27240*m1^2*m2^4*m3^4*t^3 - 3816*m2^6*m3^4*t^3 - 3816*m1^4*m3^6*t^3 - 16112*m1^2*m2^2*m3^6*t^3 - 3816*m2^4*m3^6*t^3 + 6332*m1^2*m3^8*t^3 + 6332*m2^2*m3^8*t^3 - 2516*m3^10*t^3 + 3834*m1^8*t^4 - 4008*m1^6*m2^2*t^4 + 1116*m1^4*m2^4*t^4 - 4008*m1^2*m2^6*t^4 + 3834*m2^8*t^4 - 4008*m1^6*m3^2*t^4 - 11992*m1^4*m2^2*m3^2*t^4 - 11992*m1^2*m2^4*m3^2*t^4 - 4008*m2^6*m3^2*t^4 + 1116*m1^4*m3^4*t^4 - 11992*m1^2*m2^2*m3^4*t^4 + 1116*m2^4*m3^4*t^4 - 4008*m1^2*m3^6*t^4 - 4008*m2^2*m3^6*t^4 + 3834*m3^8*t^4 - 2572*m1^6*t^5 + 716*m1^4*m2^2*t^5 + 716*m1^2*m2^4*t^5 - 2572*m2^6*t^5 + 716*m1^4*m3^2*t^5 + 19464*m1^2*m2^2*m3^2*t^5 + 716*m2^4*m3^2*t^5 + 716*m1^2*m3^4*t^5 + 716*m2^2*m3^4*t^5 - 2572*m3^6*t^5 - 160*m1^4*t^6 - 1280*m1^2*m2^2*t^6 - 160*m2^4*t^6 - 1280*m1^2*m3^2*t^6 - 1280*m2^2*m3^2*t^6 - 160*m3^4*t^6 + 1060*m1^2*t^7 + 1060*m2^2*t^7 + 1060*m3^2*t^7 - 375*t^8)*t^2/(3*m1^4 - 6*m1^2*m2^2 + 3*m2^4 - 6*m1^2*m3^2 - 6*m2^2*m3^2 + 3*m3^4 - 2*m1^2*t - 2*m2^2*t - 2*m3^2*t + 15*t^2)"
      ]
     },
     "execution_count": 43,
     "metadata": {},
     "output_type": "execute_result"
    }
   ],
   "source": [
    "PF2Sunset3MassFactorized[1]"
   ]
  },
  {
   "cell_type": "markdown",
   "id": "c4f241c3",
   "metadata": {},
   "source": [
    "<center><h2>The three-loop generic mass case (numerics)</h2></center>"
   ]
  },
  {
   "cell_type": "code",
   "execution_count": 2,
   "id": "9cf1a787",
   "metadata": {},
   "outputs": [
    {
     "name": "stdout",
     "output_type": "stream",
     "text": [
      "loading epsilon order 0\n",
      "loading epsilon order 1\n",
      "loading epsilon order 2\n",
      "loading epsilon order 3\n",
      "loading epsilon order 4\n",
      "loading epsilon order 5\n",
      "loading epsilon order 6\n",
      "loading epsilon order 7\n",
      "loading epsilon order 9\n",
      "loading epsilon order 8\n"
     ]
    }
   ],
   "source": [
    "PF3Sunset2mass22=dict()\n",
    "with open(\"PF3sunset2mass22-epsilon.txt\") as f:\n",
    "    for e in f.read().replace(\"\\n\", \"\").split(\";\"):\n",
    "            if e:\n",
    "                name, expr = e.split(\" := \")\n",
    "                name=name.strip()\n",
    "                _,num=name.split(\"PF3sunset2mass22\")\n",
    "                print(\"loading epsilon order\", num)\n",
    "                PF3Sunset2mass22[int(num)] =  SR(expr)"
   ]
  },
  {
   "cell_type": "code",
   "execution_count": 28,
   "id": "8c143f61",
   "metadata": {},
   "outputs": [
    {
     "data": {
      "text/plain": [
       "[6, 6, 6, 6, 5, 4, 3, 2, 1]"
      ]
     },
     "execution_count": 28,
     "metadata": {},
     "output_type": "execute_result"
    }
   ],
   "source": [
    "[OA(PF3Sunset2mass22[i].substitute(m1=3,m4=11)).order() for i in range(9)]"
   ]
  },
  {
   "cell_type": "code",
   "execution_count": 3,
   "id": "81ec87a5",
   "metadata": {},
   "outputs": [
    {
     "name": "stdout",
     "output_type": "stream",
     "text": [
      "loading epsilon order 0\n",
      "loading epsilon order 1\n",
      "loading epsilon order 2\n",
      "loading epsilon order 3\n",
      "loading epsilon order 4\n",
      "loading epsilon order 5\n",
      "loading epsilon order 6\n"
     ]
    }
   ],
   "source": [
    "PF3Sunset2mass31=dict()\n",
    "with open(\"PF3sunset2mass31-epsilon.txt\") as f:\n",
    "    for e in f.read().replace(\"\\n\", \"\").split(\";\"):\n",
    "            if e:\n",
    "                name, expr = e.split(\" := \")\n",
    "                name=name.strip()\n",
    "                _,num=name.split(\"PF3sunset2mass31\")\n",
    "                print(\"loading epsilon order\", num)\n",
    "                PF3Sunset2mass31[int(num)] =  SR(expr)"
   ]
  },
  {
   "cell_type": "code",
   "execution_count": 40,
   "id": "ae196cd7",
   "metadata": {},
   "outputs": [
    {
     "data": {
      "text/plain": [
       "(-8) * (t - 784) * (t - 484) * (t - 256) * (t - 36) * t^4 * (t^4 - 3055/4*t^3 - 1092082*t^2 - 377207480*t + 14401971456)"
      ]
     },
     "execution_count": 40,
     "metadata": {},
     "output_type": "execute_result"
    }
   ],
   "source": [
    "OA(PF3Sunset2mass22[0].substitute(m1=3,m4=11)).leading_coefficient().factor()"
   ]
  },
  {
   "cell_type": "code",
   "execution_count": 30,
   "id": "a149062a",
   "metadata": {},
   "outputs": [
    {
     "data": {
      "text/plain": [
       "[5, 5, 4, 3, 2, 1, 0]"
      ]
     },
     "execution_count": 30,
     "metadata": {},
     "output_type": "execute_result"
    }
   ],
   "source": [
    "[OA(PF3Sunset2mass31[i].substitute(m1=3,m4=11)).order() for i in range(7)]"
   ]
  },
  {
   "cell_type": "code",
   "execution_count": 31,
   "id": "2dfe4daf",
   "metadata": {},
   "outputs": [
    {
     "data": {
      "text/plain": [
       "(-1) * (t - 400) * (t - 196) * (t - 64) * (t - 4) * t^3 * (t^3 + 452*t^2 - 28864*t + 1836160)"
      ]
     },
     "execution_count": 31,
     "metadata": {},
     "output_type": "execute_result"
    }
   ],
   "source": [
    "OA(PF3Sunset2mass31[0].substitute(m1=3,m4=11)).leading_coefficient().factor()"
   ]
  },
  {
   "cell_type": "markdown",
   "id": "b8c5595f",
   "metadata": {},
   "source": [
    "mass configuration $(m_1,m_2,m_3,m_4)=(7,7,17,17)$"
   ]
  },
  {
   "cell_type": "code",
   "execution_count": 32,
   "id": "18f99c98",
   "metadata": {},
   "outputs": [],
   "source": [
    "PF2mass22 = open(\"PF3sunset2mass22num.txt\").readlines()[0]"
   ]
  },
  {
   "cell_type": "markdown",
   "id": "939de81c",
   "metadata": {},
   "source": [
    "mass configuration $(m_1,m_2,m_3,m_4)=(1,17,17,17)$"
   ]
  },
  {
   "cell_type": "code",
   "execution_count": 33,
   "id": "27e7a0ef",
   "metadata": {},
   "outputs": [],
   "source": [
    "PF2mass31 = open(\"PF3sunset2mass31num.txt\").readlines()[0]"
   ]
  },
  {
   "cell_type": "markdown",
   "id": "21ad37b3",
   "metadata": {},
   "source": [
    "mass configuration $(m_1,m_2,m_3,m_4)=(1,7,17,17)$"
   ]
  },
  {
   "cell_type": "code",
   "execution_count": 41,
   "id": "4a54f89b",
   "metadata": {},
   "outputs": [],
   "source": [
    "PF3mass = open(\"PF3sunset3massnum.txt\").readlines()[0]"
   ]
  },
  {
   "cell_type": "code",
   "execution_count": 42,
   "id": "82e4a6c3",
   "metadata": {},
   "outputs": [
    {
     "data": {
      "text/plain": [
       "[6, 6, 6, 6, 5, 4, 3, 2, 1, 0]"
      ]
     },
     "execution_count": 42,
     "metadata": {},
     "output_type": "execute_result"
    }
   ],
   "source": [
    "[OA(SR(PF2mass22).coefficient(epsilon,r)).order() for r in range(SR(PF2mass22).degree(epsilon)+1)]"
   ]
  },
  {
   "cell_type": "code",
   "execution_count": 46,
   "id": "4e47787c",
   "metadata": {
    "scrolled": true
   },
   "outputs": [
    {
     "name": "stdout",
     "output_type": "stream",
     "text": [
      "### Trying to factor an operator of order 6\n",
      "Degree bound for right factor = 1945\n",
      "Current order of truncation = 66\n",
      "Current working precision = 350 (before monodromy computation)\n",
      "Current algebraic degree = 1\n",
      "Starting to compute the monodromy matrices\n",
      "loss = 56\n",
      "1 matrices computed\n",
      "Trying to guess symbolic coefficients\n",
      "Trying to guess symbolic coefficients\n",
      "loss = 63\n",
      "2 matrices computed\n",
      "Trying to guess symbolic coefficients\n",
      "Current order of truncation = 66\n",
      "Current working precision = 637 (before monodromy computation)\n",
      "Current algebraic degree = 1\n",
      "Starting to compute the monodromy matrices\n",
      "1 matrices computed\n",
      "Trying to guess symbolic coefficients\n",
      "Trying to guess symbolic coefficients\n",
      "2 matrices computed\n",
      "Trying to guess symbolic coefficients\n",
      "Trying to guess symbolic coefficients\n",
      "3 matrices computed\n",
      "Trying to guess symbolic coefficients\n",
      "Trying to guess symbolic coefficients\n",
      "4 matrices computed\n",
      "Trying to guess symbolic coefficients\n",
      "Found rational coefficients\n",
      "Concluded with One_Dimensional method\n",
      "### Trying to factor an operator of order 4\n",
      "Degree bound for right factor = 459\n",
      "Current order of truncation = 40\n",
      "Current working precision = 250 (before monodromy computation)\n",
      "Current algebraic degree = 1\n",
      "Starting to compute the monodromy matrices\n",
      "loss = 20\n",
      "1 matrices computed\n",
      "Trying to guess symbolic coefficients\n",
      "Found rational coefficients\n",
      "Trying to guess symbolic coefficients\n",
      "loss = 24\n",
      "2 matrices computed\n",
      "Trying to guess symbolic coefficients\n",
      "Trying to guess symbolic coefficients\n",
      "loss = 27\n",
      "3 matrices computed\n",
      "Trying to guess symbolic coefficients\n",
      "loss = 31\n",
      "4 matrices computed\n",
      "Concluded with One_Dimensional method\n"
     ]
    },
    {
     "data": {
      "text/plain": [
       "[1, 1, 4]"
      ]
     },
     "execution_count": 46,
     "metadata": {},
     "output_type": "execute_result"
    }
   ],
   "source": [
    "PF2mass22epsilon0=OA(SR(PF2mass22).coefficient(epsilon,0))\n",
    "FacPF2mass22epsilon0=PF2mass22epsilon0.factor(verbose=True)\n",
    "[x.order() for x in FacPF2mass22epsilon0]"
   ]
  },
  {
   "cell_type": "code",
   "execution_count": 40,
   "id": "20c20777",
   "metadata": {},
   "outputs": [],
   "source": [
    "q22mass = dict()\n",
    "with open(\"/Users/pierre/Git/PicardFuchs/PF3sunset-2mass22-dert-Coefficients.txt\") as f:\n",
    "    for e in f.read().replace(\"\\n\", \"\").split(\";\"):\n",
    "        if e:\n",
    "            name, expr = e.split(\":=\")\n",
    "            name = name.strip()\n",
    "            expr = SR(expr)\n",
    "            if name[0] == \"q\":\n",
    "                q22mass[int(name[1:])] = expr"
   ]
  },
  {
   "cell_type": "code",
   "execution_count": 42,
   "id": "c57b3d78",
   "metadata": {},
   "outputs": [],
   "source": [
    "q22mass4=q22mass[4].substitute(m1=7,m4=17)\n",
    "q22mass3=q22mass[3].substitute(m1=7,m4=17)\n",
    "q22mass2=q22mass[2].substitute(m1=7,m4=17)\n",
    "q22mass1=q22mass[1].substitute(m1=7,m4=17)\n",
    "q22mass0=q22mass[0].substitute(m1=7,m4=17)\n",
    "den=q22mass4.denominator()\n",
    "qq22mass4=(q22mass4*den).expand()\n",
    "qq22mass3=(q22mass3*den).expand()\n",
    "qq22mass2=(q22mass2*den).expand()\n",
    "qq22mass1=(q22mass1*den).expand()\n",
    "qq22mass0=(q22mass0*den).expand()\n",
    "L22mass=OA0(qq22mass4)*Dt^4+OA0(qq22mass3)*Dt^3+OA0(qq22mass2)*Dt^2+OA0(qq22mass1)*Dt+OA0(qq22mass0)"
   ]
  },
  {
   "cell_type": "code",
   "execution_count": 47,
   "id": "f0b41f35",
   "metadata": {
    "scrolled": true
   },
   "outputs": [
    {
     "data": {
      "text/plain": [
       "0"
      ]
     },
     "execution_count": 47,
     "metadata": {},
     "output_type": "execute_result"
    }
   ],
   "source": [
    "L22mass+3*FacPF2mass22epsilon0[2]"
   ]
  },
  {
   "cell_type": "code",
   "execution_count": 47,
   "id": "078a44d3",
   "metadata": {},
   "outputs": [
    {
     "data": {
      "text/plain": [
       "[5, 5, 4, 3, 2, 1, 0]"
      ]
     },
     "execution_count": 47,
     "metadata": {},
     "output_type": "execute_result"
    }
   ],
   "source": [
    "[OA(SR(PF2mass31).coefficient(epsilon,r)).order() for r in range(SR(PF2mass31).degree(epsilon)+1)]"
   ]
  },
  {
   "cell_type": "code",
   "execution_count": 48,
   "id": "d311c236",
   "metadata": {
    "scrolled": false
   },
   "outputs": [
    {
     "name": "stdout",
     "output_type": "stream",
     "text": [
      "### Trying to factor an operator of order 5\n",
      "Degree bound for right factor = 920\n",
      "Current order of truncation = 45\n",
      "Current working precision = 300 (before monodromy computation)\n",
      "Current algebraic degree = 1\n",
      "Starting to compute the monodromy matrices\n",
      "loss = 36\n",
      "1 matrices computed\n",
      "Trying to guess symbolic coefficients\n",
      "Trying to guess symbolic coefficients\n",
      "2 matrices computed\n",
      "Trying to guess symbolic coefficients\n",
      "Found rational coefficients\n",
      "Trying to guess symbolic coefficients\n",
      "Found rational coefficients\n",
      "loss = 49\n",
      "3 matrices computed\n",
      "Trying to guess symbolic coefficients\n",
      "Found rational coefficients\n",
      "loss = 50\n",
      "4 matrices computed\n",
      "Trying to guess symbolic coefficients\n",
      "Found rational coefficients\n",
      "5 matrices computed\n",
      "Trying to guess symbolic coefficients\n",
      "Found rational coefficients\n",
      "Current order of truncation = 90\n",
      "Current working precision = 550 (before monodromy computation)\n",
      "Current algebraic degree = 2\n",
      "Starting to compute the monodromy matrices\n",
      "1 matrices computed\n",
      "Trying to guess symbolic coefficients\n",
      "2 matrices computed\n",
      "Trying to guess symbolic coefficients\n",
      "3 matrices computed\n",
      "Trying to guess symbolic coefficients\n",
      "Found rational coefficients\n",
      "4 matrices computed\n",
      "Trying to guess symbolic coefficients\n",
      "Found rational coefficients\n",
      "Concluded with One_Dimensional method\n",
      "### Trying to factor an operator of order 4\n",
      "Degree bound for right factor = 411\n",
      "Current order of truncation = 36\n",
      "Current working precision = 250 (before monodromy computation)\n",
      "Current algebraic degree = 1\n",
      "Starting to compute the monodromy matrices\n",
      "loss = 25\n",
      "1 matrices computed\n",
      "Trying to guess symbolic coefficients\n",
      "Trying to guess symbolic coefficients\n",
      "loss = 27\n",
      "2 matrices computed\n",
      "Trying to guess symbolic coefficients\n",
      "loss = 34\n",
      "3 matrices computed\n",
      "Trying to guess symbolic coefficients\n",
      "Found rational coefficients\n",
      "4 matrices computed\n",
      "Concluded with One_Dimensional method\n"
     ]
    },
    {
     "data": {
      "text/plain": [
       "[1, 4]"
      ]
     },
     "execution_count": 48,
     "metadata": {},
     "output_type": "execute_result"
    }
   ],
   "source": [
    "PF2mass31epsilon0=OA(SR(PF2mass31).coefficient(epsilon,0))\n",
    "FacPF2mass31epsilon0=PF2mass31epsilon0.factor(verbose=True)\n",
    "[x.order() for x in FacPF2mass31epsilon0]"
   ]
  },
  {
   "cell_type": "code",
   "execution_count": 49,
   "id": "3b930d73",
   "metadata": {},
   "outputs": [],
   "source": [
    "q31mass = dict()\n",
    "with open(\"/Users/pierre/Git/PicardFuchs/PF3sunset-2mass31-dert-Coefficients.txt\") as f:\n",
    "    for e in f.read().replace(\"\\n\", \"\").split(\";\"):\n",
    "        if e:\n",
    "            name, expr = e.split(\":=\")\n",
    "            name = name.strip()\n",
    "            expr = SR(expr)\n",
    "            if name[0] == \"q\":\n",
    "                q31mass[int(name[1:])] = expr"
   ]
  },
  {
   "cell_type": "code",
   "execution_count": 50,
   "id": "b1006ec5",
   "metadata": {},
   "outputs": [],
   "source": [
    "q31mass4=q31mass[4].substitute(m1=17,m4=1)\n",
    "q31mass3=q31mass[3].substitute(m1=17,m4=1)\n",
    "q31mass2=q31mass[2].substitute(m1=17,m4=1)\n",
    "q31mass1=q31mass[1].substitute(m1=17,m4=1)\n",
    "q31mass0=q31mass[0].substitute(m1=17,m4=1)\n",
    "den=q31mass4.denominator()\n",
    "qq31mass4=(q31mass4*den).expand()\n",
    "qq31mass3=(q31mass3*den).expand()\n",
    "qq31mass2=(q31mass2*den).expand()\n",
    "qq31mass1=(q31mass1*den).expand()\n",
    "qq31mass0=(q31mass0*den).expand()\n",
    "L31mass=OA(qq31mass4)*Dt^4+OA(qq31mass3)*Dt^3+OA(qq31mass2)*Dt^2+OA(qq31mass1)*Dt+OA(qq31mass0)"
   ]
  },
  {
   "cell_type": "code",
   "execution_count": 51,
   "id": "52025593",
   "metadata": {},
   "outputs": [
    {
     "data": {
      "text/plain": [
       "0"
      ]
     },
     "execution_count": 51,
     "metadata": {},
     "output_type": "execute_result"
    }
   ],
   "source": [
    "L31mass-2*FacPF2mass31epsilon0[1]"
   ]
  },
  {
   "cell_type": "code",
   "execution_count": 52,
   "id": "ab494d3c",
   "metadata": {},
   "outputs": [
    {
     "data": {
      "text/plain": [
       "[8, 8, 8, 8, 8, 8, 8, 8, 7, 6, 5, 4, 3, 2, 1, 0]"
      ]
     },
     "execution_count": 52,
     "metadata": {},
     "output_type": "execute_result"
    }
   ],
   "source": [
    "[OA(SR(PF3mass).coefficient(epsilon,r)).order() for r in range(SR(PF3mass).degree(epsilon)+1)]"
   ]
  },
  {
   "cell_type": "code",
   "execution_count": 53,
   "id": "635a99f4",
   "metadata": {},
   "outputs": [
    {
     "data": {
      "text/plain": [
       "(-1) * (t - 1764) * (t - 1600) * (t - 784) * (t - 676) * (t - 64) * (t - 36) * t^5 * ((1408*epsilon^7 + 704*epsilon^6 - 26552*epsilon^5 - 7644*epsilon^4 + 203678*epsilon^3 + 19567*epsilon^2 - 494122*epsilon + 217995)*t^9 + (26330112*epsilon^7 + 86052864*epsilon^6 - 294441152*epsilon^5 - 1164217728*epsilon^4 + 665492960*epsilon^3 + 5013123472*epsilon^2 + 2928801924*epsilon - 2720453836)*t^8 + (187089371136*epsilon^7 + 1010689566720*epsilon^6 + 379282732032*epsilon^5 - 6084306199680*epsilon^4 - 9754662437088*epsilon^3 + 1507684648080*epsilon^2 + 6204770058648*epsilon - 1908810494796)*t^7 + (606862135394304*epsilon^7 + 3916785201438720*epsilon^6 + 6813947601649664*epsilon^5 - 4205912474146304*epsilon^4 - 22951408582996224*epsilon^3 - 16755630597031168*epsilon^2 + 9556483818486976*epsilon + 16936728347566176)*t^6 + (693877307886010368*epsilon^7 + 2797410605042565120*epsilon^6 - 4792688995549970432*epsilon^5 - 42180550203801022464*epsilon^4 - 80887385748798724096*epsilon^3 - 58992282147024587264*epsilon^2 - 7307060258458607616*epsilon + 1727084127700542080)*t^5 + (-974418834159965306880*epsilon^7 - 17387490597510434783232*epsilon^6 - 105658421461000583380992*epsilon^5 - 317954054701220757159936*epsilon^4 - 533383564923041377026048*epsilon^3 - 506811881053303203723264*epsilon^2 - 254195183364330987134976*epsilon - 50326532420437064547840)*t^4 + (-3702829177378427256176640*epsilon^7 - 44781149492009304110137344*epsilon^6 - 221732733508120711726366720*epsilon^5 - 586721315632140608254115840*epsilon^4 - 898641665618655688309358592*epsilon^3 - 796700005251023191462961152*epsilon^2 - 376908543959020597123469312*epsilon - 72934176920202284730464256)*t^3 + (-3918692373306574927803973632*epsilon^7 - 39895225410234331101206151168*epsilon^6 - 169284692454675136824813289472*epsilon^5 - 389331070761349618813385048064*epsilon^4 - 526147527868196009427330531328*epsilon^3 - 420142094883257894091712495616*epsilon^2 - 185129479354995491404117671936*epsilon - 35106040308242194119013728256)*t^2 + (-1493427002801497738111780651008*epsilon^7 - 12840199118443474632164587339776*epsilon^6 - 46328106594838757518376152596480*epsilon^5 - 90188086561548654849880095719424*epsilon^4 - 101008558557863437180703307988992*epsilon^3 - 63732409894136433482878885036032*epsilon^2 - 20192931471562453566924698419200*epsilon - 2280172379100228695200710918144)*t - 48882984099140393934766357872640*epsilon^7 - 361250658968294465772694808821760*epsilon^6 - 853809946139343225949567267635200*epsilon^5 - 300014665328944263477880967659520*epsilon^4 + 1813245858501187462199890463948800*epsilon^3 + 3048595718159704691932130600550400*epsilon^2 + 1898130838061227444230222679900160*epsilon + 422450504357749471892376398069760)"
      ]
     },
     "execution_count": 53,
     "metadata": {},
     "output_type": "execute_result"
    }
   ],
   "source": [
    "OAepsilon(SR(PF3mass)).leading_coefficient().factor()"
   ]
  },
  {
   "cell_type": "code",
   "execution_count": 39,
   "id": "d755c03c",
   "metadata": {},
   "outputs": [
    {
     "name": "stdout",
     "output_type": "stream",
     "text": [
      "### Trying to factor an operator of order 8\n",
      "Degree bound for right factor = 8981\n",
      "Current order of truncation = 100\n",
      "Current working precision = 450 (before monodromy computation)\n",
      "Current algebraic degree = 1\n",
      "Starting to compute the monodromy matrices\n",
      "loss = 76\n",
      "1 matrices computed\n",
      "Trying to guess symbolic coefficients\n",
      "Trying to guess symbolic coefficients\n",
      "loss = 77\n",
      "2 matrices computed\n",
      "Trying to guess symbolic coefficients\n",
      "Trying to guess symbolic coefficients\n",
      "loss = 132\n",
      "3 matrices computed\n",
      "Current order of truncation = 100\n",
      "Current working precision = 768 (before monodromy computation)\n",
      "Current algebraic degree = 1\n",
      "Starting to compute the monodromy matrices\n",
      "1 matrices computed\n",
      "Trying to guess symbolic coefficients\n",
      "Trying to guess symbolic coefficients\n",
      "2 matrices computed\n",
      "Trying to guess symbolic coefficients\n",
      "loss = 135\n",
      "3 matrices computed\n",
      "Trying to guess symbolic coefficients\n",
      "loss = 138\n",
      "4 matrices computed\n",
      "Trying to guess symbolic coefficients\n",
      "Trying to guess symbolic coefficients\n",
      "loss = 156\n",
      "5 matrices computed\n",
      "Trying to guess symbolic coefficients\n",
      "loss = 159\n",
      "6 matrices computed\n",
      "Current order of truncation = 100\n",
      "Current working precision = 1377 (before monodromy computation)\n",
      "Current algebraic degree = 1\n",
      "Starting to compute the monodromy matrices\n",
      "1 matrices computed\n",
      "Trying to guess symbolic coefficients\n",
      "2 matrices computed\n",
      "Trying to guess symbolic coefficients\n",
      "loss = 169\n",
      "3 matrices computed\n",
      "Trying to guess symbolic coefficients\n",
      "Trying to guess symbolic coefficients\n",
      "loss = 171\n",
      "4 matrices computed\n",
      "Trying to guess symbolic coefficients\n",
      "Trying to guess symbolic coefficients\n",
      "loss = 189\n",
      "5 matrices computed\n",
      "Trying to guess symbolic coefficients\n",
      "loss = 193\n",
      "6 matrices computed\n",
      "Trying to guess symbolic coefficients\n",
      "Found rational coefficients\n",
      "7 matrices computed\n",
      "Trying to guess symbolic coefficients\n",
      "Found rational coefficients\n",
      "Current order of truncation = 200\n",
      "Current working precision = 2561 (before monodromy computation)\n",
      "Current algebraic degree = 2\n",
      "Starting to compute the monodromy matrices\n",
      "1 matrices computed\n",
      "Trying to guess symbolic coefficients\n",
      "Trying to guess symbolic coefficients\n",
      "2 matrices computed\n",
      "Trying to guess symbolic coefficients\n",
      "Found rational coefficients\n",
      "Trying to guess symbolic coefficients\n",
      "3 matrices computed\n",
      "Trying to guess symbolic coefficients\n",
      "4 matrices computed\n",
      "Trying to guess symbolic coefficients\n",
      "Trying to guess symbolic coefficients\n",
      "5 matrices computed\n",
      "Trying to guess symbolic coefficients\n",
      "6 matrices computed\n",
      "Trying to guess symbolic coefficients\n",
      "Found rational coefficients\n",
      "Concluded with One_Dimensional method\n",
      "### Trying to factor an operator of order 5\n",
      "Degree bound for right factor = 1784\n",
      "Current order of truncation = 85\n",
      "Current working precision = 300 (before monodromy computation)\n",
      "Current algebraic degree = 1\n",
      "Starting to compute the monodromy matrices\n",
      "loss = 22\n",
      "1 matrices computed\n",
      "Trying to guess symbolic coefficients\n",
      "loss = 24\n",
      "2 matrices computed\n",
      "Trying to guess symbolic coefficients\n",
      "loss = 26\n",
      "3 matrices computed\n",
      "Trying to guess symbolic coefficients\n",
      "Trying to guess symbolic coefficients\n",
      "loss = 27\n",
      "4 matrices computed\n",
      "Trying to guess symbolic coefficients\n",
      "Trying to guess symbolic coefficients\n",
      "loss = 35\n",
      "5 matrices computed\n",
      "Trying to guess symbolic coefficients\n",
      "loss = 36\n",
      "6 matrices computed\n",
      "Trying to guess symbolic coefficients\n",
      "Found rational coefficients\n",
      "7 matrices computed\n",
      "Concluded with One_Dimensional method\n"
     ]
    },
    {
     "data": {
      "text/plain": [
       "[1, 1, 1, 5]"
      ]
     },
     "execution_count": 39,
     "metadata": {},
     "output_type": "execute_result"
    }
   ],
   "source": [
    "PF3massepsilon0=OA(SR(PF3mass).coefficient(epsilon,0))\n",
    "FacPF3massepsilon0=PF3massepsilon0.factor(verbose=True)\n",
    "[x.order() for x in FacPF3massepsilon0]"
   ]
  },
  {
   "cell_type": "code",
   "execution_count": 70,
   "id": "28672919",
   "metadata": {},
   "outputs": [],
   "source": [
    "q3mass = dict()\n",
    "with open(\"/Users/pierre/Git/PicardFuchs/PF3sunset-3mass-dert-Coefficients.txt\") as f:\n",
    "    for e in f.read().replace(\"\\n\", \"\").split(\";\"):\n",
    "        if e:\n",
    "            name, expr = e.split(\":=\")\n",
    "            name = name.strip()\n",
    "            expr = SR(expr)\n",
    "            if name[0] == \"q\":\n",
    "                q3mass[int(name[1:])] = expr"
   ]
  },
  {
   "cell_type": "code",
   "execution_count": 91,
   "id": "6db75398",
   "metadata": {},
   "outputs": [],
   "source": [
    "q3mass5=q3mass[5].substitute(m4=1,m3=7,m1=17)\n",
    "q3mass4=q3mass[4].substitute(m4=1,m3=7,m1=17)\n",
    "q3mass3=q3mass[3].substitute(m4=1,m3=7,m1=17)\n",
    "q3mass2=q3mass[2].substitute(m4=1,m3=7,m1=17)\n",
    "q3mass1=q3mass[1].substitute(m4=1,m3=7,m1=17)\n",
    "q3mass0=q3mass[0].substitute(m4=1,m3=7,m1=17)\n",
    "L3mass=OA0(q3mass5)*Dt^5+OA0(q3mass4)*Dt^4+OA0(q3mass3)*Dt^3+OA0(q3mass2)*Dt^2+OA0(q3mass1)*Dt+OA0(q3mass0)"
   ]
  },
  {
   "cell_type": "code",
   "execution_count": 94,
   "id": "abd821ba",
   "metadata": {},
   "outputs": [
    {
     "data": {
      "text/plain": [
       "0"
      ]
     },
     "execution_count": 94,
     "metadata": {},
     "output_type": "execute_result"
    }
   ],
   "source": [
    "L3mass-10*FacPF3massepsilon0[3]"
   ]
  },
  {
   "cell_type": "code",
   "execution_count": 4,
   "id": "726d411e",
   "metadata": {},
   "outputs": [],
   "source": [
    "Ictest=(-137979947921737152*t+1246383328174804960*t^2-4408824022776053664*t^3+7245563353484999760*t^4-1168998120497487704*t^5-22294894754233116414*t^6+59204537414486093457*t^7-90534021682392090012*t^8+97278354563017800735*t^9-77921203710185283672*t^10+47569210372374170742*t^11-22241579464154299914*t^12+7907568671361809862*t^13-2096784804344711040*t^14+400225228250306832*t^15-51668675708219136*t^16+4004642653357824*t^17-138851503257600*t^18)*Dt^3+(-413939843765211456+5774356498456546224*t-27790553714356058304*t^2+66193038875721068136*t^3-76812776785026814656*t^4-10925483911057701489*t^5+215042164925648675733*t^6-448487595663147377127*t^7+574294627099016795943*t^8-525961854627632073378*t^9+359751594540420172080*t^10-185787857701625303754*t^11+72066908119026894102*t^12-20617689323784844368*t^13+4202832750113106288*t^14-573847112597213952*t^15+46552578197766912*t^16-1666218039091200*t^17)*Dt^2+(4070413027864262688-34378461615204143976*t+120737871335734846452*t^2-234860427048829547742*t^3+255125197502659716645*t^4-64075637139971525676*t^5-303519455540791281099*t^6+646854796107643464702*t^7-761858804528702089902*t^8+619926980224431325086*t^9-366332174282882574900*t^10+158501257693347946716*t^11-49626140924183068224*t^12+10905851109859409664*t^13-1585044987448462848*t^14+135148333665719808*t^15-4998654117273600*t^16)*Dt+(-5250298323148349352+33670057588451524548*t-99929885348995600206*t^2+175205498708922871203*t^3-187759525021924980312*t^4+95531466457225857051*t^5+58750841488441456962*t^6-180173490980672167146*t^7+204387701565805422642*t^8-147802317426045494604*t^9+73909380463819191540*t^10-25851273293877954048*t^11+6201489265514623872*t^12-967055516310901248*t^13+87092621825425920*t^14-3332436078182400*t^15)"
   ]
  },
  {
   "cell_type": "code",
   "execution_count": 6,
   "id": "cd796554",
   "metadata": {},
   "outputs": [
    {
     "name": "stdout",
     "output_type": "stream",
     "text": [
      "### Trying to factor an operator of order 2\n",
      "Degree bound for right factor = 47\n",
      "Current order of truncation = 30\n",
      "Current working precision = 150 (before monodromy computation)\n",
      "Current algebraic degree = 1\n",
      "Starting to compute the monodromy matrices\n",
      "loss = 1\n",
      "1 matrices computed\n",
      "Trying to guess symbolic coefficients\n",
      "Found rational coefficients\n",
      "loss = 8\n",
      "2 matrices computed\n",
      "Concluded with One_Dimensional method\n"
     ]
    }
   ],
   "source": [
    "fac=Ictest.factor(verbose=True)"
   ]
  },
  {
   "cell_type": "code",
   "execution_count": 7,
   "id": "44981548",
   "metadata": {},
   "outputs": [
    {
     "data": {
      "text/plain": [
       "[2, 1]"
      ]
     },
     "execution_count": 7,
     "metadata": {},
     "output_type": "execute_result"
    }
   ],
   "source": [
    "[xx.order() for xx in fac]"
   ]
  },
  {
   "cell_type": "code",
   "execution_count": 8,
   "id": "c215be8d",
   "metadata": {},
   "outputs": [
    {
     "data": {
      "text/plain": [
       "(323986840934400*t^15 - 8210212247897856*t^14 + 91156277592108288*t^13 - 597878331583714272*t^12 + 2611913893727602464*t^11 - 8076170879572870368*t^10 + 18243348265375140096*t^9 - 30486002834274362928*t^8 + 37488226273135831872*t^7 - 32896654512041916624*t^6 + 18788293111758848608*t^5 - 4535544811558461568*t^4 - 2603840290246635776*t^3 + 8906347317410719232/3*t^2 - 3435466067556422144/3*t + 468295580825289728/3)*Dt^2 + (971960522803200*t^14 - 24525186740941824*t^13 + 256308149775476736*t^12 - 1512960526424983104*t^11 + 5657244879691016640*t^10 - 14000178918616283232*t^9 + 22885367447426583456*t^8 - 22990585776636931488*t^7 + 9095393515935461616*t^6 + 11185948787017602528*t^5 - 25020154648449247056*t^4 + 26515496308244920704*t^3 - 18163340225764082048*t^2 + 7633906046572936704*t - 1507772444260101376)*Dt - 3650474351200320*t^10 + 29469346590075840*t^9 - 60864535264286880*t^8 - 129434995736736480*t^7 + 1123984981466655840*t^6 - 3965384111225871600*t^5 + 8923594784158212480*t^4 - 12190058706361292400*t^3 + 9116480559457592160*t^2 - 3214637689655990080*t + 368338334969628800"
      ]
     },
     "execution_count": 8,
     "metadata": {},
     "output_type": "execute_result"
    }
   ],
   "source": [
    "fac[0]"
   ]
  },
  {
   "cell_type": "code",
   "execution_count": 24,
   "id": "22a774eb",
   "metadata": {},
   "outputs": [],
   "source": [
    "# The numerical cases for the 3-loop sunset"
   ]
  },
  {
   "cell_type": "code",
   "execution_count": 27,
   "id": "e987e08b",
   "metadata": {},
   "outputs": [],
   "source": [
    "epsilon=var('epsilon')"
   ]
  },
  {
   "cell_type": "code",
   "execution_count": 49,
   "id": "6e4de782",
   "metadata": {},
   "outputs": [],
   "source": [
    "from ore_algebra import *\n",
    "OA, t, Dt = DifferentialOperators(QQ, 't')"
   ]
  },
  {
   "cell_type": "code",
   "execution_count": 50,
   "id": "aa88f4ce",
   "metadata": {},
   "outputs": [],
   "source": [
    "L2mass22 = open(\"PF3sunset2mass22num.txt\").readlines()[0]\n",
    "#dopKited4case1 = OA(s.replace(\"^\", \"**\"))\n",
    "#[dopKited4case1.order(),dopKited4case1.degree(),dopKited4case1.indicial_polynomial(z).factor()]"
   ]
  },
  {
   "cell_type": "code",
   "execution_count": 51,
   "id": "87af343c",
   "metadata": {},
   "outputs": [
    {
     "data": {
      "text/plain": [
       "9"
      ]
     },
     "execution_count": 51,
     "metadata": {},
     "output_type": "execute_result"
    }
   ],
   "source": [
    "SR(L2mass22).degree(epsilon)"
   ]
  },
  {
   "cell_type": "code",
   "execution_count": 58,
   "id": "a8a58cc4",
   "metadata": {},
   "outputs": [
    {
     "data": {
      "text/plain": [
       "[[0, 6],\n",
       " [1, 6],\n",
       " [2, 6],\n",
       " [3, 6],\n",
       " [4, 5],\n",
       " [5, 4],\n",
       " [6, 3],\n",
       " [7, 2],\n",
       " [8, 1],\n",
       " [9, 0]]"
      ]
     },
     "execution_count": 58,
     "metadata": {},
     "output_type": "execute_result"
    }
   ],
   "source": [
    "[[r,OA(SR(L2mass22).coefficient(epsilon,r)).order()] for r in range(10)]"
   ]
  },
  {
   "cell_type": "code",
   "execution_count": 36,
   "id": "508098ce",
   "metadata": {},
   "outputs": [],
   "source": [
    "L2mass31 = open(\"PF3sunset2mass31num.txt\").readlines()[0]\n",
    "#dopKited4case1 = OA(s.replace(\"^\", \"**\"))\n",
    "#[dopKited4case1.order(),dopKited4case1.degree(),dopKited4case1.indicial_polynomial(z).factor()]"
   ]
  },
  {
   "cell_type": "code",
   "execution_count": 44,
   "id": "a04d2bae",
   "metadata": {},
   "outputs": [
    {
     "data": {
      "text/plain": [
       "6"
      ]
     },
     "execution_count": 44,
     "metadata": {},
     "output_type": "execute_result"
    }
   ],
   "source": [
    "SR(L2mass31).degree(epsilon)"
   ]
  },
  {
   "cell_type": "code",
   "execution_count": 59,
   "id": "256c1e00",
   "metadata": {},
   "outputs": [
    {
     "data": {
      "text/plain": [
       "[[0, 5], [1, 5], [2, 4], [3, 3], [4, 2], [5, 1], [6, 0]]"
      ]
     },
     "execution_count": 59,
     "metadata": {},
     "output_type": "execute_result"
    }
   ],
   "source": [
    "[[r,OA(SR(L2mass31).coefficient(epsilon,r)).order()] for r in range(7)]"
   ]
  },
  {
   "cell_type": "code",
   "execution_count": 37,
   "id": "ae250271",
   "metadata": {},
   "outputs": [],
   "source": [
    "L3mass = open(\"PF3sunset3massnum.txt\").readlines()[0]\n",
    "#dopKited4case1 = OA(s.replace(\"^\", \"**\"))\n",
    "#[dopKited4case1.order(),dopKited4case1.degree(),dopKited4case1.indicial_polynomial(z).factor()]"
   ]
  },
  {
   "cell_type": "code",
   "execution_count": 42,
   "id": "83174f65",
   "metadata": {},
   "outputs": [
    {
     "data": {
      "text/plain": [
       "15"
      ]
     },
     "execution_count": 42,
     "metadata": {},
     "output_type": "execute_result"
    }
   ],
   "source": [
    "SR(L3mass).degree(epsilon)"
   ]
  },
  {
   "cell_type": "code",
   "execution_count": 60,
   "id": "47d53014",
   "metadata": {},
   "outputs": [
    {
     "data": {
      "text/plain": [
       "[[0, 8],\n",
       " [1, 8],\n",
       " [2, 8],\n",
       " [3, 8],\n",
       " [4, 8],\n",
       " [5, 8],\n",
       " [6, 8],\n",
       " [7, 8],\n",
       " [8, 7],\n",
       " [9, 6],\n",
       " [10, 5],\n",
       " [11, 4],\n",
       " [12, 3],\n",
       " [13, 2],\n",
       " [14, 1],\n",
       " [15, 0]]"
      ]
     },
     "execution_count": 60,
     "metadata": {},
     "output_type": "execute_result"
    }
   ],
   "source": [
    "[[r,OA(SR(L3mass).coefficient(epsilon,r)).order()] for r in range(16)]"
   ]
  },
  {
   "cell_type": "code",
   "execution_count": null,
   "id": "f3c4abc9",
   "metadata": {},
   "outputs": [],
   "source": []
  }
 ],
 "metadata": {
  "kernelspec": {
   "display_name": "SageMath 10.1",
   "language": "sage",
   "name": "sagemath"
  },
  "language_info": {
   "codemirror_mode": {
    "name": "ipython",
    "version": 3
   },
   "file_extension": ".py",
   "mimetype": "text/x-python",
   "name": "python",
   "nbconvert_exporter": "python",
   "pygments_lexer": "ipython3",
   "version": "3.11.1"
  }
 },
 "nbformat": 4,
 "nbformat_minor": 5
}
